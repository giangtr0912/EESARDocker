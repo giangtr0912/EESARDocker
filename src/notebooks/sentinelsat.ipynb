{
 "cells": [
  {
   "cell_type": "markdown",
   "metadata": {},
   "source": [
    "## Sentinelsat API"
   ]
  },
  {
   "cell_type": "code",
   "execution_count": null,
   "metadata": {},
   "outputs": [],
   "source": [
    "from sentinelsat import SentinelAPI, read_geojson, geojson_to_wkt\n",
    "api = SentinelAPI('mortcanty','caLvi%27','https://scihub.copernicus.eu/dhus')"
   ]
  },
  {
   "cell_type": "code",
   "execution_count": null,
   "metadata": {},
   "outputs": [],
   "source": [
    "footprint = geojson_to_wkt({\n",
    "  \"type\": \"FeatureCollection\",\n",
    "  \"features\": [\n",
    "    {\n",
    "      \"type\": \"Feature\",\n",
    "      \"properties\": {},\n",
    "      \"geometry\": {\n",
    "        \"type\": \"Polygon\",\n",
    "        \"coordinates\": [\n",
    "          [\n",
    "            [\n",
    "              6.3775634765625,\n",
    "              50.81461241998999\n",
    "            ],\n",
    "            [\n",
    "              6.65771484375,\n",
    "              50.81461241998999\n",
    "            ],\n",
    "            [\n",
    "              6.65771484375,\n",
    "              50.958426723359935\n",
    "            ],\n",
    "            [\n",
    "              6.3775634765625,\n",
    "              50.958426723359935\n",
    "            ],\n",
    "            [\n",
    "              6.3775634765625,\n",
    "              50.81461241998999\n",
    "            ]\n",
    "          ]\n",
    "        ]\n",
    "      }\n",
    "    }\n",
    "  ]\n",
    "})"
   ]
  },
  {
   "cell_type": "code",
   "execution_count": null,
   "metadata": {},
   "outputs": [],
   "source": [
    "products = api.query(footprint,\n",
    "                     date=('20190401','20190601'),\n",
    "                     platformname='Sentinel-1',\n",
    "                     polarisationmode='VV VH',\n",
    "                     sensoroperationalmode='IW',\n",
    "                     orbitdirection='Ascending',\n",
    "                     relativeorbitnumber='15',\n",
    "                     producttype='SLC')"
   ]
  },
  {
   "cell_type": "code",
   "execution_count": null,
   "metadata": {},
   "outputs": [],
   "source": [
    "for key, value in products.items(): \n",
    "    print(key,value['title'])"
   ]
  },
  {
   "cell_type": "code",
   "execution_count": null,
   "metadata": {},
   "outputs": [],
   "source": [
    "for key, value in products.items(): \n",
    "    product_info = api.get_product_odata(key)\n",
    "    if product_info['Online']:\n",
    "        print('Product %s is online. Starting download.'%key)\n",
    " #       api.download(key,directory_path='/home/mort/python/EESARDocker/src/imagery')\n",
    "    else:\n",
    "        print('Product %s is not online.'%key)"
   ]
  },
  {
   "cell_type": "code",
   "execution_count": null,
   "metadata": {
    "scrolled": true
   },
   "outputs": [],
   "source": [
    "api.download_all(products,directory_path='/home/mort/python/EESARDocker/src/imagery')"
   ]
  },
  {
   "cell_type": "code",
   "execution_count": null,
   "metadata": {},
   "outputs": [],
   "source": []
  }
 ],
 "metadata": {
  "kernelspec": {
   "display_name": "Python 3",
   "language": "python",
   "name": "python3"
  },
  "language_info": {
   "codemirror_mode": {
    "name": "ipython",
    "version": 3
   },
   "file_extension": ".py",
   "mimetype": "text/x-python",
   "name": "python",
   "nbconvert_exporter": "python",
   "pygments_lexer": "ipython3",
   "version": "3.6.8"
  }
 },
 "nbformat": 4,
 "nbformat_minor": 2
}
