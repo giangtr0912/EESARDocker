{
 "cells": [
  {
   "cell_type": "markdown",
   "metadata": {},
   "source": [
    "# Notebook Examples for Chapter 2"
   ]
  },
  {
   "cell_type": "code",
   "execution_count": null,
   "metadata": {},
   "outputs": [],
   "source": [
    "import warnings\n",
    "# these are innocuous but irritating\n",
    "warnings.filterwarnings(\"ignore\", message=\"numpy.dtype size changed\")\n",
    "warnings.filterwarnings(\"ignore\", message=\"numpy.ufunc size changed\")\n",
    "%matplotlib inline"
   ]
  },
  {
   "cell_type": "markdown",
   "metadata": {},
   "source": [
    "### Illustrating the central limit theorem"
   ]
  },
  {
   "cell_type": "code",
   "execution_count": null,
   "metadata": {},
   "outputs": [],
   "source": [
    "import numpy as np\n",
    "import matplotlib.pyplot as plt\n",
    "\n",
    "r = np.random.rand(10000,12)\n",
    "array = np.sum(r,1)\n",
    "p=plt.hist(array,bins=12)\n",
    "\n",
    "#plt.savefig('/home/mort/LaTeX/new projects/CRC4/Chapter2/fig2_1.eps')"
   ]
  },
  {
   "cell_type": "markdown",
   "metadata": {},
   "source": [
    "### Chi-square density function"
   ]
  },
  {
   "cell_type": "code",
   "execution_count": null,
   "metadata": {},
   "outputs": [],
   "source": [
    "import scipy.stats as st\n",
    "\n",
    "z = np.linspace(1,20,200)\n",
    "ax = plt.subplot(111)\n",
    "for i in range(1,6):\n",
    "    ax.plot(z,st.chi2.pdf(z,i),label = str(i))\n",
    "ax.legend()    \n",
    "\n",
    "#plt.savefig('/home/mort/LaTeX/new projects/CRC4/Chapter2/fig2_2.eps')"
   ]
  },
  {
   "cell_type": "markdown",
   "metadata": {},
   "source": [
    "### Sampling"
   ]
  },
  {
   "cell_type": "code",
   "execution_count": null,
   "metadata": {},
   "outputs": [],
   "source": [
    "import ee\n",
    "ee.Initialize()\n",
    "\n",
    "im = ee.Image(ee.ImageCollection('ASTER/AST_L1T_003') \\\n",
    "            .filterBounds(ee.Geometry.Point([6.5,50.9])) \\\n",
    "            .filterDate('2007-04-30','2007-05-02') \\\n",
    "            .first()) \\\n",
    "            .select('B3N')\n",
    "roi = ee.Geometry.Polygon(\n",
    "    [[6.382713317871094,50.90736285477543],\n",
    "     [6.3961029052734375,50.90130070888041],\n",
    "     [6.4015960693359375,50.90519789328594],\n",
    "     [6.388206481933594,50.91169247570916],\n",
    "     [6.382713317871094,50.90736285477543]])\n",
    "sample = im.sample(roi,scale=15) \\\n",
    "           .aggregate_array('B3N').getInfo()\n",
    "p = plt.hist(sample,bins=20)\n",
    "\n",
    "#plt.savefig('/home/mort/LaTeX/new projects/CRC4/Chapter2/fig2_4.eps')"
   ]
  },
  {
   "cell_type": "markdown",
   "metadata": {},
   "source": [
    "### Confidence intervals"
   ]
  },
  {
   "cell_type": "code",
   "execution_count": null,
   "metadata": {},
   "outputs": [],
   "source": [
    "from scipy.stats import norm,chi2\n",
    "\n",
    "def x2(a,m):\n",
    "    return chi2.ppf(1-a,m)\n",
    "\n",
    "m = 1000\n",
    "a = 0.05\n",
    "g = np.random.random(m)\n",
    "gbar = np.sum(g)/m\n",
    "s = np.sum((g-gbar)**2)/(m-1)\n",
    "print 'sample variance: %f'%s\n",
    "lower = (m-1)*s/x2(a/2,m-1)\n",
    "upper = (m-1)*s/x2(1-a/2,m-1)\n",
    "print '%i percent confidence interval: (%f, %f)'\\\n",
    "               %(int((1-a)*100),lower,upper)\n",
    "print 'sample mean: %f'%gbar\n",
    "t = norm.ppf(1-a/2)\n",
    "sigma = np.sqrt(s)\n",
    "lower = gbar-t*sigma/np.sqrt(m)\n",
    "upper = gbar+t*sigma/np.sqrt(m)\n",
    "print '%i percent confidence interval: (%f, %f)'\\\n",
    "               %(int((1-a)*100),lower,upper)"
   ]
  },
  {
   "cell_type": "markdown",
   "metadata": {},
   "source": [
    "### Provisional means"
   ]
  },
  {
   "cell_type": "code",
   "execution_count": null,
   "metadata": {},
   "outputs": [],
   "source": [
    "from osgeo import gdal\n",
    "from osgeo.gdalconst import GA_ReadOnly\n",
    "import auxil.auxil1 as auxil  \n",
    "\n",
    "gdal.AllRegister()\n",
    "infile = 'imagery/AST_20070501'                \n",
    "inDataset = gdal.Open(infile,GA_ReadOnly)     \n",
    "cols = inDataset.RasterXSize\n",
    "rows = inDataset.RasterYSize\n",
    "Xs = np.zeros((cols,3))\n",
    "cpm = auxil.Cpm(3)\n",
    "rasterBands=[inDataset.GetRasterBand(k+1)\n",
    "             for k in range(3)]\n",
    "for row in range(rows):\n",
    "    for k in range(3):\n",
    "        Xs[:,k]=rasterBands[k].ReadAsArray(0,row,cols,1)\n",
    "    cpm.update(Xs)   \n",
    "print cpm.covariance()"
   ]
  },
  {
   "cell_type": "markdown",
   "metadata": {},
   "source": [
    "### Multiple linear regression"
   ]
  },
  {
   "cell_type": "code",
   "execution_count": null,
   "metadata": {},
   "outputs": [],
   "source": [
    "import numpy as np\n",
    "\n",
    "# biased data matrix X ( 3 independent variables)\n",
    "X = np.random.rand(100,3)\n",
    "X = np.mat(np.append(np.ones((100,1)),X,axis=1))\n",
    "# a parameter vector\n",
    "w = np.mat([[3.0],[4.0],[5.0],[6.0]])\n",
    "# noisy dependent variable y with sigma = 0.1\n",
    "y = X*w+np.random.normal(0,0.1,(100,1))\n",
    "# pseudoinverse\n",
    "Xp = (X.T*X).I*X.T\n",
    "# estimated parameter vector\n",
    "w = Xp*y\n",
    "print w"
   ]
  },
  {
   "cell_type": "code",
   "execution_count": null,
   "metadata": {},
   "outputs": [],
   "source": [
    "import tensorflow as tf\n",
    "\n",
    "# set up computation graph\n",
    "X1 = tf.constant(X)\n",
    "y1 = tf.constant(y)\n",
    "X1T = tf.transpose(X)\n",
    "X1p = tf.matmul(tf.matrix_inverse(tf.matmul(X1T,X1)),X1T)\n",
    "w = tf.matmul(X1p,y1)\n",
    "\n",
    "# create and run a session to evaluate w \n",
    "with tf.Session() as sess:\n",
    "    w = w.eval()\n",
    "    \n",
    "print w"
   ]
  },
  {
   "cell_type": "code",
   "execution_count": null,
   "metadata": {},
   "outputs": [],
   "source": [
    "import ee\n",
    "ee.Initialize()\n",
    "\n",
    "# set up JSON description of the calculatiom\n",
    "X1 = ee.Array(X.tolist())\n",
    "y1 = ee.Array(y.tolist())\n",
    "X1T = X1.matrixTranspose()\n",
    "X1p = X1T.matrixMultiply(X1) \\\n",
    "         .matrixInverse() \\\n",
    "         .matrixMultiply(X1T)\n",
    "w = X1p.matrixMultiply(y1)\n",
    "\n",
    "# run on GEE server\n",
    "print w.getInfo()"
   ]
  },
  {
   "cell_type": "code",
   "execution_count": null,
   "metadata": {},
   "outputs": [],
   "source": [
    "print 0.01*(X.T*X).I"
   ]
  },
  {
   "cell_type": "markdown",
   "metadata": {},
   "source": [
    "### Mutual information"
   ]
  },
  {
   "cell_type": "code",
   "execution_count": null,
   "metadata": {},
   "outputs": [],
   "source": [
    "import numpy as np\n",
    "from osgeo import gdal\n",
    "from osgeo.gdalconst import GA_ReadOnly\n",
    "\n",
    "def mi(arr1,arr2): \n",
    "    '''mutual information of two uint8 arrays '''\n",
    "    p12 = np.histogram2d(arr1,arr2,bins=256,\n",
    "                         normed=True)[0].ravel()\n",
    "    p1  = np.histogram(arr1,bins=256,normed=True)[0]\n",
    "    p2  = np.histogram(arr2,bins=256,normed=True)[0] \n",
    "    p1p2 = np.outer(p1,p2).ravel()    \n",
    "    idx = p12>0\n",
    "    return np.sum(p12[idx]*np.log(p12[idx]/p1p2[idx]))                                                                                                                                                                                                                                                                                                                                                                                                                                                                                                                                                                                                                                                                                                                                                                                 \n",
    " \n",
    "gdal.AllRegister() \n",
    "infile = 'imagery/AST_20070501'\n",
    "            \n",
    "inDataset = gdal.Open(infile,GA_ReadOnly)     \n",
    "cols = inDataset.RasterXSize\n",
    "rows = inDataset.RasterYSize \n",
    "image = np.zeros((3,rows*cols)) \n",
    "# VNIR bands                                  \n",
    "for b in range(3):\n",
    "    band = inDataset.GetRasterBand(b+1)\n",
    "    image[b,:]=np.byte(band.ReadAsArray(0,0,cols,rows))\\\n",
    "                                              .ravel()\n",
    "inDataset = None\n",
    "\n",
    "print mi(image[0,:],image[1,:])\n",
    "print mi(image[0,:],image[2,:]) \n",
    "print mi(image[1,:],image[2,:]) \n"
   ]
  }
 ],
 "metadata": {
  "kernelspec": {
   "display_name": "Python 2",
   "language": "python",
   "name": "python2"
  },
  "language_info": {
   "codemirror_mode": {
    "name": "ipython",
    "version": 2
   },
   "file_extension": ".py",
   "mimetype": "text/x-python",
   "name": "python",
   "nbconvert_exporter": "python",
   "pygments_lexer": "ipython2",
   "version": "2.7.15rc1"
  }
 },
 "nbformat": 4,
 "nbformat_minor": 1
}
