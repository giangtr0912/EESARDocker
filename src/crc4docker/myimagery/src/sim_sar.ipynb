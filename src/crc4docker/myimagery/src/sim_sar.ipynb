{
 "cells": [
  {
   "cell_type": "markdown",
   "metadata": {},
   "source": [
    "# Simulation and comparison of dual pol and dual pol diagonal only"
   ]
  },
  {
   "cell_type": "code",
   "execution_count": 1,
   "metadata": {},
   "outputs": [],
   "source": [
    "%matplotlib inline\n",
    "import numpy as np\n",
    "from osgeo import gdal\n",
    "from osgeo.gdalconst import GDT_Float32, GA_ReadOnly"
   ]
  },
  {
   "cell_type": "code",
   "execution_count": 2,
   "metadata": {},
   "outputs": [],
   "source": [
    "def make_simimage(fn,m=5,bands=9,sigma=1,alpha=0.2,beta=0.2):\n",
    "    simimage = np.zeros((100**2,9))   \n",
    "    ReSigma = np.zeros((3,3))\n",
    "    ImSigma = np.zeros((3,3))\n",
    "    for i in range(3):\n",
    "        for j in range(3):\n",
    "            if i==j:\n",
    "                ReSigma[i,j]=sigma**2\n",
    "            elif i<j:\n",
    "                ReSigma[i,j] = alpha*sigma**2\n",
    "                ImSigma[i,j] = beta*sigma**2\n",
    "            else:\n",
    "                ReSigma[i,j] = alpha*sigma**2\n",
    "                ImSigma[i,j] = -beta*sigma**2\n",
    "    Sigma = np.mat(ReSigma +1j*ImSigma)\n",
    "    C = np.linalg.cholesky(Sigma)\n",
    "    for i in range(100**2):\n",
    "        X = np.mat(np.random.randn(m,3))\n",
    "        Y = np.mat(np.random.randn(m,3))\n",
    "        Wr = X.T*X + Y.T*Y\n",
    "        Wi = X.T*Y - Y.T*X\n",
    "        W = (Wr - 1j*Wi)/2\n",
    "        W = C*W*C.H\n",
    "        simimage[i,0] = np.real(W[0,0])\n",
    "        simimage[i,1] = np.real(W[0,1])\n",
    "        simimage[i,2] = np.imag(W[0,1])\n",
    "        simimage[i,3] = np.real(W[0,2])\n",
    "        simimage[i,4] = np.imag(W[0,2])\n",
    "        simimage[i,5] = np.real(W[1,1])\n",
    "        simimage[i,6] = np.real(W[1,2])\n",
    "        simimage[i,7] = np.imag(W[1,2])\n",
    "        simimage[i,8] = np.real(W[2,2])\n",
    "    driver = gdal.GetDriverByName('GTiff')    \n",
    "    outDataset = driver.Create(fn,100,100,bands,GDT_Float32) \n",
    "    if bands == 9:\n",
    "        for i in range(bands):\n",
    "            outband = outDataset.GetRasterBand(i+1)\n",
    "            outband.WriteArray(np.reshape(simimage[:,i],(100,100)),0,0) \n",
    "            outband.FlushCache()\n",
    "    elif bands == 4:\n",
    "         outband = outDataset.GetRasterBand(1)\n",
    "         outband.WriteArray(np.reshape(simimage[:,0],(100,100)),0,0)\n",
    "         outband.FlushCache()\n",
    "         outband = outDataset.GetRasterBand(2)\n",
    "         outband.WriteArray(np.reshape(simimage[:,1],(100,100)),0,0) \n",
    "         outband.FlushCache()\n",
    "         outband = outDataset.GetRasterBand(3)\n",
    "         outband.WriteArray(np.reshape(simimage[:,2],(100,100)),0,0)\n",
    "         outband.FlushCache()\n",
    "         outband = outDataset.GetRasterBand(4)\n",
    "         outband.WriteArray(np.reshape(simimage[:,5],(100,100)),0,0)\n",
    "         outband.FlushCache()\n",
    "    elif bands == 3:\n",
    "         outband = outDataset.GetRasterBand(1)\n",
    "         outband.WriteArray(np.reshape(simimage[:,0],(100,100)),0,0)\n",
    "         outband.FlushCache()\n",
    "         outband = outDataset.GetRasterBand(2)\n",
    "         outband.WriteArray(np.reshape(simimage[:,5],(100,100)),0,0) \n",
    "         outband.FlushCache()\n",
    "         outband = outDataset.GetRasterBand(3)\n",
    "         outband.WriteArray(np.reshape(simimage[:,8],(100,100)),0,0) \n",
    "         outband.FlushCache()\n",
    "    elif bands == 2:\n",
    "         outband = outDataset.GetRasterBand(1)\n",
    "         outband.WriteArray(np.reshape(simimage[:,0],(100,100)),0,0)\n",
    "         outband.FlushCache()\n",
    "         outband = outDataset.GetRasterBand(2)\n",
    "         outband.WriteArray(np.reshape(simimage[:,5],(100,100)),0,0)\n",
    "         outband.FlushCache()\n",
    "    elif bands == 1:\n",
    "         outband = outDataset.GetRasterBand(1)\n",
    "         outband.WriteArray(np.reshape(simimage[:,0],(100,100)),0,0)\n",
    "         outband.FlushCache()\n",
    "    outDataset = None    \n",
    "    print 'written to %s'%fn     "
   ]
  },
  {
   "cell_type": "markdown",
   "metadata": {},
   "source": [
    "### Simulate dual pol series with change in last (5th) image"
   ]
  },
  {
   "cell_type": "code",
   "execution_count": 20,
   "metadata": {},
   "outputs": [
    {
     "name": "stdout",
     "output_type": "stream",
     "text": [
      "written to myimagery/simx1.tif\n",
      "written to myimagery/simx2.tif\n",
      "written to myimagery/simx3.tif\n",
      "written to myimagery/simx4.tif\n",
      "written to myimagery/simx5.tif\n"
     ]
    }
   ],
   "source": [
    "bands = 4\n",
    "m = 5\n",
    "make_simimage('myimagery/simx1.tif',m=m,sigma=1.0,bands=bands)\n",
    "make_simimage('myimagery/simx2.tif',m=m,sigma=1.0,bands=bands)\n",
    "make_simimage('myimagery/simx3.tif',m=m,sigma=1.0,bands=bands)\n",
    "make_simimage('myimagery/simx4.tif',m=m,sigma=1.0,bands=bands)\n",
    "make_simimage('myimagery/simx5.tif',m=m,sigma=2.5,bands=bands)"
   ]
  },
  {
   "cell_type": "markdown",
   "metadata": {},
   "source": [
    "### Run sequential omnibus, significance = 0.01, ENL = 5"
   ]
  },
  {
   "cell_type": "code",
   "execution_count": 26,
   "metadata": {},
   "outputs": [
    {
     "name": "stdout",
     "output_type": "stream",
     "text": [
      "===============================================\n",
      "     Multi-temporal SAR Change Detection\n",
      "===============================================\n",
      "Wed Dec  5 16:19:21 2018\n",
      "First (reference) filename:  myimagery/simx1.tif\n",
      "number of images: 5\n",
      "equivalent number of looks: 5.000000\n",
      "significance level: 0.010000\n",
      "Dual polarizaton\n",
      "pre-calculating Rj and p-values ...\n",
      "attempting parallel calculation ...\n",
      "/usr/local/lib/python2.7/dist-packages/ipyparallel/client/client.py:459: RuntimeWarning: \n",
      "            Controller appears to be listening on localhost, but not on this machine.\n",
      "            If this is true, you should specify Client(...,sshserver='you@vivo')\n",
      "            or instruct your controller to listen on an external IP.\n",
      "  RuntimeWarning)\n",
      "available engines [0, 1]\n",
      "ell =  1 2 3 4 \n",
      "elapsed time for p-value calculation: 0.142284870148\n",
      "last change map written to: /home/mort/python/CRC4Docker/src/myimagery/sarseq_cmap.tif\n",
      "frequency map written to: /home/mort/python/CRC4Docker/src/myimagery/sarseq_fmap.tif\n",
      "bitemporal map image written to: /home/mort/python/CRC4Docker/src/myimagery/sarseq_bmap.tif\n",
      "first change map written to: /home/mort/python/CRC4Docker/src/myimagery/sarseq_smap.tif\n",
      "total elapsed time: 0.149512052536\n"
     ]
    }
   ],
   "source": [
    "!scripts/run_sar_seq.sh simx myimagery/ 5 0.01"
   ]
  },
  {
   "cell_type": "code",
   "execution_count": 27,
   "metadata": {},
   "outputs": [
    {
     "data": {
      "image/png": "[encoded data removed]",
      "text/plain": [
       "<Figure size 720x720 with 2 Axes>"
      ]
     },
     "metadata": {},
     "output_type": "display_data"
    }
   ],
   "source": [
    "run scripts/dispms -f myimagery/sarseq_smap.tif -c "
   ]
  },
  {
   "cell_type": "markdown",
   "metadata": {},
   "source": [
    "### Repeat above for dual pol diagonal only "
   ]
  },
  {
   "cell_type": "markdown",
   "metadata": {},
   "source": [
    "### Count positives in each of the four intervals"
   ]
  },
  {
   "cell_type": "code",
   "execution_count": 28,
   "metadata": {},
   "outputs": [
    {
     "name": "stdout",
     "output_type": "stream",
     "text": [
      "interval 1  positives: 81.000000\n",
      "interval 2  positives: 106.000000\n",
      "interval 3  positives: 131.000000\n",
      "interval 4  positives: 9466.000000\n"
     ]
    }
   ],
   "source": [
    "def count(infile):\n",
    "    gdal.AllRegister()             \n",
    "    inDataset = gdal.Open(infile,GA_ReadOnly)     \n",
    "    cols = inDataset.RasterXSize\n",
    "    rows = inDataset.RasterYSize \n",
    "    bands = inDataset.RasterCount                            \n",
    "    for b in range(bands):\n",
    "        band = inDataset.GetRasterBand(b+1)\n",
    "        data=band.ReadAsArray(0,0,cols,rows)\n",
    "        print 'interval %i  positives: %f'%(b+1,np.sum(data)/255.0)\n",
    "    inDataset = None\n",
    "      \n",
    "count('myimagery/sarseq_bmap.tif')"
   ]
  },
  {
   "cell_type": "code",
   "execution_count": null,
   "metadata": {},
   "outputs": [],
   "source": []
  }
 ],
 "metadata": {
  "kernelspec": {
   "display_name": "Python 2",
   "language": "python",
   "name": "python2"
  },
  "language_info": {
   "codemirror_mode": {
    "name": "ipython",
    "version": 2
   },
   "file_extension": ".py",
   "mimetype": "text/x-python",
   "name": "python",
   "nbconvert_exporter": "python",
   "pygments_lexer": "ipython2",
   "version": "2.7.12"
  }
 },
 "nbformat": 4,
 "nbformat_minor": 2
}
