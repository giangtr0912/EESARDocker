{
 "cells": [
  {
   "cell_type": "markdown",
   "metadata": {},
   "source": [
    "# Notebook examples for Chapter 5 Part 1"
   ]
  },
  {
   "cell_type": "code",
   "execution_count": null,
   "metadata": {},
   "outputs": [],
   "source": [
    "import warnings\n",
    "# these are innocuous but irritating\n",
    "warnings.filterwarnings(\"ignore\", message=\"numpy.dtype size changed\")\n",
    "warnings.filterwarnings(\"ignore\", message=\"numpy.ufunc size changed\")\n",
    "%matplotlib inline"
   ]
  },
  {
   "cell_type": "markdown",
   "metadata": {},
   "source": [
    "## High-pass filtering and feature extraction\n",
    "### Sobel filter"
   ]
  },
  {
   "cell_type": "code",
   "execution_count": null,
   "metadata": {},
   "outputs": [],
   "source": [
    "import numpy as np\n",
    "from numpy import fft\n",
    "import matplotlib.pyplot as plt\n",
    "from matplotlib import cm\n",
    "import auxil.auxil1 as auxil\n",
    "\n",
    "# create filter\n",
    "g = np.zeros((512,512),dtype=float)\n",
    "g[:3,:3] = np.array([[1,0,-1],[2,0,-2],[1,0,-1]])\n",
    "\n",
    "#  shift Fourier transform to center    \n",
    "a = np.reshape(range(512**2),(512,512))\n",
    "i = a % 512\n",
    "j = a / 512\n",
    "g = (-1)**(i+j)*g\n",
    "\n",
    "#  compute power spectrum and display    \n",
    "p = np.abs(fft.fft2(g))**2\n",
    "plt.imshow(auxil.linstr(p), cmap=cm.jet)\n",
    "\n",
    "#plt.savefig('/home/mort/LaTeX/new projects/CRC4/Chapter5/fig5_1.eps',bbox_inches='tight')"
   ]
  },
  {
   "cell_type": "code",
   "execution_count": null,
   "metadata": {},
   "outputs": [],
   "source": [
    "from osgeo import gdal\n",
    "from osgeo.gdalconst import GA_ReadOnly\n",
    "from scipy import ndimage\n",
    "\n",
    "gdal.AllRegister()\n",
    "infile = 'imagery/AST_20070501'\n",
    "inDataset = gdal.Open(infile,GA_ReadOnly)     \n",
    "cols = inDataset.RasterXSize\n",
    "rows = inDataset.RasterYSize    \n",
    "\n",
    "band = inDataset.GetRasterBand(3)  \n",
    "image = band.ReadAsArray(0,0,cols,rows).astype(float)\n",
    "edges0 = ndimage.sobel(image,axis=0)\n",
    "edges1 = ndimage.sobel(image,axis=1)\n",
    "\n",
    "# comine and perform 2% saturated linear stretch\n",
    "edges = auxil.lin2pcstr(np.abs(edges0+edges1))\n",
    "plt.imshow(edges[200:400,200:400], cmap=cm.gray)   \n",
    "\n",
    "#plt.savefig('/home/mort/LaTeX/new projects/CRC4/Chapter5/fig5_2.eps',bbox_inches='tight')"
   ]
  },
  {
   "cell_type": "markdown",
   "metadata": {},
   "source": [
    "### Laplacian of Gaussian filter"
   ]
  },
  {
   "cell_type": "code",
   "execution_count": null,
   "metadata": {},
   "outputs": [],
   "source": [
    "# Laplacian filter\n",
    "g = np.zeros((512,512),dtype=float)\n",
    "g[:3,:3] = np.array([[0,1,0],[1,-4,1],[0,1,0]])\n",
    "\n",
    "#  shift Fourier transform to center    \n",
    "a = np.reshape(range(512**2),(512,512))\n",
    "i = a % 512\n",
    "j = a / 512\n",
    "g = (-1)**(i+j)*g\n",
    "\n",
    "#  compute power spectrum and display    \n",
    "p = np.abs(fft.fft2(g))**2\n",
    "plt.imshow(auxil.linstr(p), cmap=cm.jet)\n",
    "\n",
    "#plt.savefig('/home/mort/LaTeX/new projects/CRC4/Chapter5/fig5_3.eps',bbox_inches='tight')"
   ]
  },
  {
   "cell_type": "code",
   "execution_count": null,
   "metadata": {},
   "outputs": [],
   "source": [
    "from mpl_toolkits.mplot3d import Axes3D\n",
    "\n",
    "# Laplacian of Gaussian filter\n",
    "sigma = 2.0\n",
    "filt = np.zeros((16,16))\n",
    "for i in range(16):\n",
    "    for j in range(16):\n",
    "        filt[i,j] = (1/(2*np.pi*sigma**6)) \\\n",
    "         *((i-8)**2+(j-8)**2-2*sigma**2) \\\n",
    "         *np.exp(-((i-8)**2+(j-8)**2)/(2*sigma**2))\n",
    "fig = plt.figure()\n",
    "ax = fig.gca(projection='3d') \n",
    "x, y = np.meshgrid(range(16),range(16))\n",
    "ax.plot_surface(x, y, filt, cmap=cm.coolwarm)    \n",
    "\n",
    "#plt.savefig('/home/mort/LaTeX/new projects/CRC4/Chapter5/fig5_4.eps',bbox_inches='tight')"
   ]
  },
  {
   "cell_type": "code",
   "execution_count": null,
   "metadata": {},
   "outputs": [],
   "source": [
    "# pad the ASTER image\n",
    "impad = np.zeros((rows+16,cols+16))\n",
    "impad[:rows,:cols] = image\n",
    "\n",
    "# pad the filter as well\n",
    "filtpad = impad*0.0\n",
    "filtpad[:16,:16] = filt\n",
    "\n",
    "# flilter in frequency domain\n",
    "im = np.real(fft.ifft2(fft.fft2(impad)*fft.fft2(filtpad)))"
   ]
  },
  {
   "cell_type": "code",
   "execution_count": null,
   "metadata": {},
   "outputs": [],
   "source": [
    "# get zero-crossings\n",
    "idx = np.where( (im*np.roll(im,1,axis=0)<0) | \\\n",
    "                (im*np.roll(im,1,axis=1)<0) )\n",
    "\n",
    "# get edge strengths\n",
    "edges0 = ndimage.sobel(im,axis=0)\n",
    "edges1 = ndimage.sobel(im,axis=1)\n",
    "edges = auxil.lin2pcstr(np.abs(edges0+edges1))\n",
    "\n",
    "# assign edge strengths at zero-crossings\n",
    "im1 = 0.0*im\n",
    "im1[idx] = edges[idx]\n",
    "im1 = auxil.lin2pcstr(im1[200:400,200:400])\n",
    "plt.imshow(im1,cmap=cm.gray) \n",
    "\n",
    "#plt.savefig('/home/mort/LaTeX/new projects/CRC4/Chapter5/fig5_5.eps',bbox_inches='tight')"
   ]
  },
  {
   "cell_type": "markdown",
   "metadata": {},
   "source": [
    "### Corner and edge detection"
   ]
  },
  {
   "cell_type": "code",
   "execution_count": null,
   "metadata": {},
   "outputs": [],
   "source": [
    "%run scripts/ex5_1 -b 4 -a 1 imagery/LE7_20010626\n",
    "%run scripts/ex5_1 -b 4 -a 2 imagery/LE7_20010626"
   ]
  },
  {
   "cell_type": "code",
   "execution_count": null,
   "metadata": {},
   "outputs": [],
   "source": [
    "run scripts/dispms -f imagery/LE7_20010626_corner -e 3 -d [400,400,200,200] \\\n",
    "-F imagery/LE7_20010626_canny -E 2 -D [400,400,200,200] \\\n",
    "#-s '/home/mort/LaTeX/new projects/CRC4/Chapter5/fig5_6.eps'"
   ]
  },
  {
   "cell_type": "code",
   "execution_count": null,
   "metadata": {},
   "outputs": [],
   "source": [
    "import ee\n",
    "ee.Initialize()\n",
    "\n",
    "im = ee.Image(\n",
    "  'LANDSAT/LE07/C01/T1_RT_TOA/LE07_197025_20010626') \\\n",
    "       .select('B4')\n",
    "edges = ee.Algorithms.CannyEdgeDetector(im,0.2)\n",
    "\n",
    "gdexporttask = ee.batch.Export.image.toAsset(edges,\n",
    "                      description='assetExportTask', \n",
    "                      assetId='users/mortcanty/edges',\n",
    "                      scale=30,\n",
    "                      maxPixels=1e9) \n",
    "gdexporttask.start()   "
   ]
  },
  {
   "cell_type": "markdown",
   "metadata": {},
   "source": [
    "### Invariant moments"
   ]
  },
  {
   "cell_type": "code",
   "execution_count": null,
   "metadata": {},
   "outputs": [],
   "source": [
    "import scipy.ndimage.interpolation as interp\n",
    "# Airplanes\n",
    "A = np.array([[0,0,0,0,0,1,0,0,0,0,0], \n",
    "             [0,0,0,0,1,1,1,0,0,0,0], \n",
    "             [0,0,0,0,1,1,1,0,0,0,0], \n",
    "             [0,0,0,1,1,1,1,1,0,0,0], \n",
    "             [0,0,1,1,0,1,0,1,1,0,0], \n",
    "             [0,1,1,0,0,1,0,0,1,1,0], \n",
    "             [1,0,0,0,0,1,0,0,0,0,1], \n",
    "             [0,0,0,0,0,1,0,0,0,0,0], \n",
    "             [0,0,0,0,1,1,1,0,0,0,0], \n",
    "             [0,0,0,0,0,1,0,0,0,0,0]])\n",
    "im = np.zeros((200,200))\n",
    "im[50:60,30:41] = A\n",
    "im1 = im*0\n",
    "im1[75:125,50:105] = auxil.rebin(A,(50,55))\n",
    "im2 = interp.rotate(im1,45)\n",
    "plt.imshow(im + im1 + im2[:200,:200])\n",
    "\n",
    "#plt.savefig('/home/mort/LaTeX/new projects/CRC4/Chapter5/fig5_7.eps',bbox_inches='tight')"
   ]
  },
  {
   "cell_type": "code",
   "execution_count": null,
   "metadata": {},
   "outputs": [],
   "source": [
    "hu = cv.HuMoments(cv.moments(im)).ravel()\n",
    "hu1 = cv.HuMoments(cv.moments(im1)).ravel()\n",
    "hu2 = cv.HuMoments(cv.moments(im2)).ravel()\n",
    "print hu[:4]\n",
    "print hu1[:4]\n",
    "print hu2[:4]"
   ]
  },
  {
   "cell_type": "code",
   "execution_count": null,
   "metadata": {},
   "outputs": [],
   "source": [
    "run scripts/ex5_2 -b 1 imagery/LE7_20010626"
   ]
  },
  {
   "cell_type": "markdown",
   "metadata": {},
   "source": [
    "### Panchromatic sharpening"
   ]
  },
  {
   "cell_type": "code",
   "execution_count": null,
   "metadata": {},
   "outputs": [],
   "source": [
    "# Load a Landsat 8 top-of-atmosphere reflectance image.\n",
    "image = \\\n",
    " ee.Image('LANDSAT/LC08/C01/T1_TOA/LC08_044034_20140318')\n",
    "# Convert the RGB bands to the HSV color space.\n",
    "hsv = image.select(['B4', 'B3', 'B2']).rgbToHsv()\n",
    "# Swap in the panchromatic band and convert back to RGB.\n",
    "sharpened = ee.Image.cat([\n",
    "  hsv.select('hue'), hsv.select('saturation'),\n",
    "  image.select('B8')]).hsvToRgb()"
   ]
  },
  {
   "cell_type": "code",
   "execution_count": null,
   "metadata": {},
   "outputs": [],
   "source": [
    "gdexporttask = ee.batch.Export.image.toAsset(sharpened,\n",
    "                      description='assetExportTask', \n",
    "                      assetId='users/mortcanty/sharpened',\n",
    "                      scale=15,\n",
    "                      maxPixels=1e9) \n",
    "gdexporttask.start()  "
   ]
  },
  {
   "cell_type": "code",
   "execution_count": null,
   "metadata": {},
   "outputs": [],
   "source": [
    "run scripts/dispms -f imagery/IKON_ms -e 3 -F imagery/IKON_pan -E 3"
   ]
  },
  {
   "cell_type": "code",
   "execution_count": null,
   "metadata": {},
   "outputs": [],
   "source": [
    "%run scripts/dwt -r 4 -b 4 -d [50,100,200,200] imagery/IKON_ms imagery/IKON_pan"
   ]
  },
  {
   "cell_type": "code",
   "execution_count": null,
   "metadata": {},
   "outputs": [],
   "source": [
    "run scripts/dispms -f imagery/IKON_ms_pan_dwt \\\n",
    "                                   -p [4,3,2] -e 3 \\\n",
    "-F imagery/IKON_ms -D [50,100,200,200] \\\n",
    "                                   -P [4,3,2] -E 3 \\\n",
    "#-s '/home/mort/LaTeX/new projects/CRC4/Chapter5/fig5_13.eps'"
   ]
  },
  {
   "cell_type": "code",
   "execution_count": null,
   "metadata": {},
   "outputs": [],
   "source": [
    "run scripts/atwt -r 4 -b 4 -d [50,100,200,200] imagery/IKON_ms imagery/IKON_pan"
   ]
  },
  {
   "cell_type": "code",
   "execution_count": null,
   "metadata": {},
   "outputs": [],
   "source": [
    "run scripts/dispms -f imagery/IKON_ms_pan_dwt -p [4,3,2] -e 3 \\\n",
    "-F imagery/IKON_ms_pan_atwt -P [4,3,2] -E 3 \\\n",
    "#-s '/home/mort/LaTeX/new projects/CRC4/Chapter5/fig5_15.eps'"
   ]
  },
  {
   "cell_type": "code",
   "execution_count": null,
   "metadata": {},
   "outputs": [],
   "source": []
  }
 ],
 "metadata": {
  "kernelspec": {
   "display_name": "Python 2",
   "language": "python",
   "name": "python2"
  },
  "language_info": {
   "codemirror_mode": {
    "name": "ipython",
    "version": 2
   },
   "file_extension": ".py",
   "mimetype": "text/x-python",
   "name": "python",
   "nbconvert_exporter": "python",
   "pygments_lexer": "ipython2",
   "version": "2.7.15rc1"
  }
 },
 "nbformat": 4,
 "nbformat_minor": 2
}
