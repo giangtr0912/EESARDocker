{
 "cells": [
  {
   "cell_type": "markdown",
   "metadata": {},
   "source": [
    "# Notebook Examples for Capter 5 Part 2"
   ]
  },
  {
   "cell_type": "code",
   "execution_count": null,
   "metadata": {},
   "outputs": [],
   "source": [
    "import warnings\n",
    "# these are innocuous but irritating\n",
    "warnings.filterwarnings(\"ignore\", message=\"numpy.dtype size changed\")\n",
    "warnings.filterwarnings(\"ignore\", message=\"numpy.ufunc size changed\")\n",
    "%matplotlib inline"
   ]
  },
  {
   "cell_type": "markdown",
   "metadata": {},
   "source": [
    "### Pauli representation\n",
    "\n",
    "__Note__: The RADARSAT-2 image used here is not available in the imagery folder."
   ]
  },
  {
   "cell_type": "code",
   "execution_count": null,
   "metadata": {},
   "outputs": [],
   "source": [
    "run scripts/dispms -f myimagery/RS2_20090829.tif -p [6,9,1] \\\n",
    "#-s '/home/mort/LaTeX/new projects/CRC4/Chapter5/fig5_16.eps'"
   ]
  },
  {
   "cell_type": "markdown",
   "metadata": {},
   "source": [
    "### Determining the equivalent number of looks (ENL)"
   ]
  },
  {
   "cell_type": "code",
   "execution_count": null,
   "metadata": {
    "scrolled": true
   },
   "outputs": [],
   "source": [
    "run scripts/enlml -d [500,400,300,300] myimagery/RS2_20090829.tif"
   ]
  },
  {
   "cell_type": "code",
   "execution_count": null,
   "metadata": {},
   "outputs": [],
   "source": [
    "run scripts/dispms -f myimagery/RS2_20090829_enl.tif -e 2 \\\n",
    "-F myimagery/RS2_20090829.tif -D [500,400,300,300] \\\n",
    "#-s '/home/mort/LaTeX/new projects/CRC4/Chapter5/fig5_18.eps'"
   ]
  },
  {
   "cell_type": "markdown",
   "metadata": {},
   "source": [
    "### Minimum mean square error (mmse) filter"
   ]
  },
  {
   "cell_type": "code",
   "execution_count": null,
   "metadata": {},
   "outputs": [],
   "source": [
    "run scripts/mmse_filter myimagery/RS2_20090829.tif 12.5"
   ]
  },
  {
   "cell_type": "code",
   "execution_count": null,
   "metadata": {},
   "outputs": [],
   "source": [
    "run scripts/dispms -f myimagery/RS2_20090829_mmse.tif -p [6,9,1] -d [200,200,400,400] \\\n",
    "-F myimagery/RS2_20090829.tif -P [6,9,1] -D [200,200,400,400] \\\n",
    "#-s '/home/mort/LaTeX/new projects/CRC4/Chapter5/fig5_19.eps'"
   ]
  },
  {
   "cell_type": "markdown",
   "metadata": {},
   "source": [
    "### Gamma-MAP filter"
   ]
  },
  {
   "cell_type": "code",
   "execution_count": null,
   "metadata": {},
   "outputs": [],
   "source": [
    "run scripts/gamma_filter myimagery/RS2_20090829.tif 12.5"
   ]
  },
  {
   "cell_type": "code",
   "execution_count": null,
   "metadata": {},
   "outputs": [],
   "source": [
    "run scripts/dispms -f myimagery/RS2_20090829_mmse.tif -p [6,9,1] -d [200,200,400,400] \\\n",
    "-F myimagery/RS2_20090829_gamma.tif -P [2,3,1] -D [200,200,400,400] \\\n",
    "#-s '/home/mort/LaTeX/new projects/CRC4/Chapter5/fig5_20.eps'"
   ]
  },
  {
   "cell_type": "markdown",
   "metadata": {},
   "source": [
    "### Temporal filtering"
   ]
  },
  {
   "cell_type": "code",
   "execution_count": null,
   "metadata": {},
   "outputs": [],
   "source": [
    "import ee, math\n",
    "ee.Initialize()\n",
    "\n",
    "# convert from decibels to linear scale\n",
    "def linearize(current):\n",
    "    return current.multiply(\n",
    "      ee.Image.constant(math.log(10.0)/10.0)).exp()\n",
    "\n",
    "# collect a time series\n",
    "rect = ee.Geometry.Rectangle([6.31,50.83,6.58,50.95]);\n",
    "collection = ee.ImageCollection('COPERNICUS/S1_GRD')\\\n",
    ".filterBounds(rect)\\\n",
    ".filterDate(ee.Date('2017-05-01'),ee.Date('2017-06-01'))\\\n",
    ".filter(ee.Filter.eq('resolution_meters', 10)) \\\n",
    ".filter(ee.Filter.eq('orbitProperties_pass','ASCENDING'))\\\n",
    ".map(linearize)  \n",
    "\n",
    "# series length\n",
    "count =  collection.toList(100).length()            \n",
    "print 'series length: %i'%count.getInfo()  \n",
    "\n",
    "# temporally filtered image band\n",
    "filtered = collection.mean().select(0).clip(rect)\n",
    "\n",
    "# unfiltered image band for comparison\n",
    "unfiltered = ee.Image(collection.first()).select(0)\\\n",
    "                                        .clip(rect)\n",
    "    \n",
    "# export to Google Drive\n",
    "outimage = ee.Image.cat(unfiltered,filtered)\n",
    "gdexport = ee.batch.Export.image.toDrive(outimage,\n",
    "     description='driveExportTask', \n",
    "     folder = 'EarthEngineImages',\n",
    "     fileNamePrefix='temporalfiltered',scale=10)                \n",
    "gdexport.start() "
   ]
  },
  {
   "cell_type": "code",
   "execution_count": null,
   "metadata": {},
   "outputs": [],
   "source": [
    "run scripts/dispms -f imagery/temporalfiltered.tif \\\n",
    "                     -d [800,400,600,600] -p [1,1,1]\\\n",
    "                   -F imagery/temporalfiltered.tif \\\n",
    "                     -D [800,400,600,600] -P [2,2,2] \\\n",
    "#-s '/home/mort/LaTeX/new projects/CRC4/Chapter5/fig5_21.eps'            "
   ]
  },
  {
   "cell_type": "markdown",
   "metadata": {},
   "source": [
    "### Slope and aspect"
   ]
  },
  {
   "cell_type": "code",
   "execution_count": null,
   "metadata": {},
   "outputs": [],
   "source": [
    "!gdaldem slope imagery/AST_DEM imagery/ASTslope.tif"
   ]
  },
  {
   "cell_type": "code",
   "execution_count": null,
   "metadata": {},
   "outputs": [],
   "source": [
    "!gdaldem aspect imagery/AST_DEM imagery/ASTaspect.tif"
   ]
  },
  {
   "cell_type": "code",
   "execution_count": null,
   "metadata": {
    "scrolled": true
   },
   "outputs": [],
   "source": [
    "run scripts/dispms -f imagery/ASTslope.tif \\\n",
    "  -F imagery/ASTaspect.tif \\\n",
    "#-s  '/home/mort/LaTeX/new projects/CRC4/Chapter5/fig5_30.eps'   "
   ]
  },
  {
   "cell_type": "markdown",
   "metadata": {},
   "source": [
    "### Illumination correction"
   ]
  },
  {
   "cell_type": "code",
   "execution_count": null,
   "metadata": {},
   "outputs": [],
   "source": [
    "run scripts/dispms -f imagery/AST_DEM -e 2"
   ]
  },
  {
   "cell_type": "markdown",
   "metadata": {},
   "source": [
    "#### Download LS5 image and DEM"
   ]
  },
  {
   "cell_type": "code",
   "execution_count": null,
   "metadata": {},
   "outputs": [],
   "source": [
    "import IPython.display as disp\n",
    "\n",
    "rect = ee.Geometry.Rectangle([-124.705,48.414,-123.799,49.026])\n",
    "image = ee.Image('LANDSAT/LT05/C01/T1/LT05_048026_19840717') \\\n",
    "          .select('B1','B2','B3','B4','B5','B7') \\\n",
    "          .clip(rect)     \n",
    "crs = image.projection().crs().getInfo()\n",
    "    \n",
    "dem = ee.Image('USGS/SRTMGL1_003').clip(rect)\n",
    "\n",
    "# export to Google Drive\n",
    "gdexport = ee.batch.Export.image.toDrive(image,\n",
    "     description='driveExportTask', \n",
    "     folder = 'EarthEngineImages',\n",
    "     fileNamePrefix='LS19840717',scale=30)                \n",
    "gdexport.start() \n",
    "\n",
    "gdexport = ee.batch.Export.image.toDrive(dem,\n",
    "     description='driveExportTask', \n",
    "     folder = 'EarthEngineImages',\n",
    "     crs = crs, \n",
    "     fileNamePrefix='SRTM',scale=30)                \n",
    "gdexport.start() "
   ]
  },
  {
   "cell_type": "code",
   "execution_count": null,
   "metadata": {},
   "outputs": [],
   "source": [
    "run scripts/dispms -f myimagery/LS19840717.tif -e 3 -p [4,5,6] -d [100,500,1600,1600] \\\n",
    "-F myimagery/SRTM.tif -E 3 -D [100,500,1600,1600] \\\n",
    "#-s '/home/mort/LaTeX/new projects/CRC4/Chapter5/fig5_32.eps'"
   ]
  },
  {
   "cell_type": "code",
   "execution_count": null,
   "metadata": {},
   "outputs": [],
   "source": [
    "run scripts/pca -d [100,500,1600,1600] myimagery/LS19840717.tif"
   ]
  },
  {
   "cell_type": "code",
   "execution_count": null,
   "metadata": {},
   "outputs": [],
   "source": [
    "run scripts/dispms -f myimagery/LS19840717_pca.tif -e 3 -p [1,2,3]"
   ]
  },
  {
   "cell_type": "code",
   "execution_count": null,
   "metadata": {},
   "outputs": [],
   "source": [
    "run scripts/em -p [1,2,3] -K 3 myimagery/LS19840717_pca.tif"
   ]
  },
  {
   "cell_type": "code",
   "execution_count": null,
   "metadata": {},
   "outputs": [],
   "source": [
    "%run scripts/dispms -f  myimagery/LS19840717_pca_em.tif -c  \\\n",
    "#-s '/home/mort/LaTeX/new projects/CRC4/Chapter5/fig5_33.eps'"
   ]
  },
  {
   "cell_type": "code",
   "execution_count": null,
   "metadata": {},
   "outputs": [],
   "source": [
    "run scripts/c_corr -d [100,500,1600,1600] \\\n",
    "  -c myimagery/LS19840717_pca_em.tif \\\n",
    "  132.9 54.9 myimagery/LS19840717.tif myimagery/SRTM.tif"
   ]
  },
  {
   "cell_type": "code",
   "execution_count": null,
   "metadata": {},
   "outputs": [],
   "source": [
    "run scripts/dispms -f myimagery/LS19840717.tif -d [100,500,1000,1000] -p [4,4,4]  \\\n",
    "-F myimagery/LS19840717_corr.tif -P [4,4,4] -D [0,0,1000,1000]  \\\n",
    "#-s '/home/mort/LaTeX/new projects/CRC4/Chapter5/fig5_35.eps'"
   ]
  },
  {
   "cell_type": "code",
   "execution_count": null,
   "metadata": {},
   "outputs": [],
   "source": [
    "run scripts/dispms -f myimagery/cosgamma -e 4 \\\n",
    "#-s '/home/mort/LaTeX/new projects/CRC4/Chapter5/fig5_34.eps'"
   ]
  },
  {
   "cell_type": "markdown",
   "metadata": {},
   "source": [
    "### Frequency domain  registration"
   ]
  },
  {
   "cell_type": "code",
   "execution_count": null,
   "metadata": {},
   "outputs": [],
   "source": [
    "from osgeo import gdal\n",
    "from osgeo.gdalconst import GA_ReadOnly\n",
    "import numpy as np\n",
    "from numpy import fft\n",
    "import matplotlib.pyplot as plt\n",
    "from mpl_toolkits.mplot3d import Axes3D\n",
    "\n",
    "# grab an image band\n",
    "gdal.AllRegister()\n",
    "inDataset = gdal.Open('imagery/AST_20070501')\n",
    "cols = inDataset.RasterXSize\n",
    "rows = inDataset.RasterYSize  \n",
    "band = inDataset.GetRasterBand(3) \\\n",
    "             .ReadAsArray(0,0,cols,rows)  \n",
    "\n",
    "# calculate and invert cross-power spectrum\n",
    "g1 = band[10:522,10:522]\n",
    "g2 = band[0:512,0:512]\n",
    "f1 = fft.fft2(g1)\n",
    "f2 = fft.fft2(g2)\n",
    "g = fft.ifft2(f2*np.conj(f1)/np.absolute(f1)**2)\n",
    "\n",
    "# plot\n",
    "fig = plt.figure()\n",
    "ax = fig.gca(projection='3d') \n",
    "x, y = np.meshgrid(range(40),range(40))\n",
    "ax.plot_surface(x, y, np.real(g[0:40,0:40]))\n",
    "\n",
    "#plt.savefig('/home/mort/LaTeX/new projects/CRC4/Chapter5/fig5_36.eps',bbox_inches='tight')"
   ]
  },
  {
   "cell_type": "markdown",
   "metadata": {},
   "source": [
    "### Re-sampling with ground control points"
   ]
  },
  {
   "cell_type": "code",
   "execution_count": null,
   "metadata": {},
   "outputs": [],
   "source": [
    "run scripts/ex5_3 imagery/gcps.pts"
   ]
  },
  {
   "cell_type": "code",
   "execution_count": null,
   "metadata": {},
   "outputs": [],
   "source": []
  }
 ],
 "metadata": {
  "kernelspec": {
   "display_name": "Python 2",
   "language": "python",
   "name": "python2"
  },
  "language_info": {
   "codemirror_mode": {
    "name": "ipython",
    "version": 2
   },
   "file_extension": ".py",
   "mimetype": "text/x-python",
   "name": "python",
   "nbconvert_exporter": "python",
   "pygments_lexer": "ipython2",
   "version": "2.7.15rc1"
  }
 },
 "nbformat": 4,
 "nbformat_minor": 2
}
