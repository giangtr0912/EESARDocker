{
 "cells": [
  {
   "cell_type": "markdown",
   "metadata": {},
   "source": [
    "# Notebook Examples for Chapter 1"
   ]
  },
  {
   "cell_type": "code",
   "execution_count": 1,
   "metadata": {},
   "outputs": [],
   "source": [
    "import warnings\n",
    "# these are innocuous but irritating\n",
    "warnings.filterwarnings(\"ignore\", message=\"numpy.dtype size changed\")\n",
    "warnings.filterwarnings(\"ignore\", message=\"numpy.ufunc size changed\")\n",
    "%matplotlib inline"
   ]
  },
  {
   "cell_type": "markdown",
   "metadata": {},
   "source": [
    "### A Synthetic Aperture Image (Sentinel-1)"
   ]
  },
  {
   "cell_type": "code",
   "execution_count": null,
   "metadata": {},
   "outputs": [],
   "source": [
    "import IPython.display as disp\n",
    "import ee\n",
    "\n",
    "ee.Initialize()\n",
    "\n",
    "minlon = 6.31\n",
    "minlat = 50.83\n",
    "maxlon = 6.58\n",
    "maxlat = 50.95\n",
    "\n",
    "rect = ee.Geometry.Rectangle([minlon,minlat,maxlon,maxlat])\n",
    "collection = ee.ImageCollection('COPERNICUS/S1_GRD') \\\n",
    "  .filterBounds(rect) \\\n",
    "  .filterDate(ee.Date('2017-05-01'), ee.Date('2017-06-01')) \\\n",
    "  .filter(ee.Filter.eq('transmitterReceiverPolarisation', ['VV','VH'])) \\\n",
    "  .filter(ee.Filter.eq('resolution_meters', 10)) \\\n",
    "  .filter(ee.Filter.eq('instrumentMode', 'IW')) \n",
    "    \n",
    "image = ee.Image(collection.first()).clip(rect)                        \n",
    "url = image.select('VV').getThumbURL({'min':-20,'max':0})\n",
    "disp.Image(url=url)"
   ]
  },
  {
   "cell_type": "code",
   "execution_count": null,
   "metadata": {},
   "outputs": [],
   "source": [
    "run scripts/ex1_1 imagery/AST_20070501 3"
   ]
  },
  {
   "cell_type": "markdown",
   "metadata": {},
   "source": [
    "### Covariance matrix of a multispectral image"
   ]
  },
  {
   "cell_type": "code",
   "execution_count": 2,
   "metadata": {},
   "outputs": [
    {
     "name": "stdout",
     "output_type": "stream",
     "text": [
      "[[ 407.13229638  442.18038527  -78.32374081]\n",
      " [ 442.18038527  493.57036427 -120.64197555]\n",
      " [ -78.32374081 -120.64197555  438.95704379]]\n"
     ]
    }
   ],
   "source": [
    "from osgeo import gdal\n",
    "from osgeo.gdalconst import GA_ReadOnly\n",
    "import numpy as np\n",
    "\n",
    "gdal.AllRegister()\n",
    "infile = 'imagery/AST_20070501'                \n",
    "inDataset = gdal.Open(infile,GA_ReadOnly)     \n",
    "cols = inDataset.RasterXSize\n",
    "rows = inDataset.RasterYSize    \n",
    "\n",
    "#  data matrix\n",
    "G = np.zeros((rows*cols,3))                                   \n",
    "for b in range(3):\n",
    "    band = inDataset.GetRasterBand(b+1)\n",
    "    tmp = band.ReadAsArray(0,0,cols,rows).ravel()\n",
    "    G[:,b] = tmp - np.mean(tmp)\n",
    "    \n",
    "#  covariance matrix\n",
    "C = np.mat(G).T*np.mat(G)/(cols*rows-1)  \n",
    "print C  "
   ]
  },
  {
   "cell_type": "markdown",
   "metadata": {},
   "source": [
    "### Eigenvalues and eigenvectors of the covariance matrix"
   ]
  },
  {
   "cell_type": "code",
   "execution_count": null,
   "metadata": {},
   "outputs": [],
   "source": [
    "eigenvalues, eigenvectors = np.linalg.eigh(C)\n",
    "print eigenvalues\n",
    "print eigenvectors"
   ]
  },
  {
   "cell_type": "code",
   "execution_count": null,
   "metadata": {},
   "outputs": [],
   "source": [
    "U = eigenvectors\n",
    "print U.T*U"
   ]
  },
  {
   "cell_type": "markdown",
   "metadata": {},
   "source": [
    "### Singular value decomposition"
   ]
  },
  {
   "cell_type": "code",
   "execution_count": null,
   "metadata": {},
   "outputs": [],
   "source": [
    "import numpy as np\n",
    "b = np.mat([1,2,3])\n",
    "# an almost singular matrix\n",
    "A = b.T*b + np.random.rand(3,3)*0.001\n",
    "# a symmetric almost singular matrix\n",
    "A = A + A.T\n",
    "print 'determinant: %f'%np.linalg.det(A)\n",
    "# singular value decomposition\n",
    "U,Lambda,V = np.linalg.svd(A)\n",
    "print 'Lambda = %s'%str(Lambda)\n",
    "print 'U = %s'%str(U)\n",
    "print 'V = %s'%str(V)"
   ]
  },
  {
   "cell_type": "markdown",
   "metadata": {},
   "source": [
    "### Principal components analysis"
   ]
  },
  {
   "cell_type": "code",
   "execution_count": null,
   "metadata": {},
   "outputs": [],
   "source": [
    "run scripts/ex1_2 imagery/AST_20070501 imagery/pca.tif"
   ]
  },
  {
   "cell_type": "code",
   "execution_count": null,
   "metadata": {},
   "outputs": [],
   "source": [
    "run scripts/dispms -f 'imagery/pca.tif' -p [1,2,3] -e 4"
   ]
  }
 ],
 "metadata": {
  "kernelspec": {
   "display_name": "Python 2",
   "language": "python",
   "name": "python2"
  },
  "language_info": {
   "codemirror_mode": {
    "name": "ipython",
    "version": 2
   },
   "file_extension": ".py",
   "mimetype": "text/x-python",
   "name": "python",
   "nbconvert_exporter": "python",
   "pygments_lexer": "ipython2",
   "version": "2.7.15rc1"
  }
 },
 "nbformat": 4,
 "nbformat_minor": 2
}
