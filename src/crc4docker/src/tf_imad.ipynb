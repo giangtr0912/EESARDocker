{
 "cells": [
  {
   "cell_type": "code",
   "execution_count": 1,
   "metadata": {},
   "outputs": [
    {
     "name": "stderr",
     "output_type": "stream",
     "text": [
      "/usr/local/lib/python2.7/dist-packages/scipy/optimize/_trlib/__init__.py:1: RuntimeWarning: numpy.dtype size changed, may indicate binary incompatibility. Expected 96, got 88\n",
      "  from ._trlib import TRLIBQuadraticSubproblem\n",
      "/usr/local/lib/python2.7/dist-packages/scipy/optimize/_numdiff.py:10: RuntimeWarning: numpy.dtype size changed, may indicate binary incompatibility. Expected 96, got 88\n",
      "  from ._group_columns import group_dense, group_sparse\n",
      "/usr/local/lib/python2.7/dist-packages/scipy/optimize/_minimize.py:37: ImportWarning: Not importing directory '/usr/local/lib/python2.7/dist-packages/scipy/optimize/lbfgsb': missing __init__.py\n",
      "  from .lbfgsb import _minimize_lbfgsb\n",
      "/usr/local/lib/python2.7/dist-packages/scipy/stats/_continuous_distns.py:18: RuntimeWarning: numpy.dtype size changed, may indicate binary incompatibility. Expected 96, got 88\n",
      "  from . import _stats\n"
     ]
    }
   ],
   "source": [
    "import tensorflow as tf\n",
    "import tensorflow_probability as tfp\n",
    "import numpy as np\n",
    "from scipy import stats\n",
    "from osgeo import gdal\n",
    "from osgeo.gdalconst import GA_ReadOnly\n",
    "tfd = tfp.distributions"
   ]
  },
  {
   "cell_type": "code",
   "execution_count": 2,
   "metadata": {},
   "outputs": [
    {
     "name": "stdout",
     "output_type": "stream",
     "text": [
      "[[22. 28.]\n",
      " [49. 64.]]\n"
     ]
    }
   ],
   "source": [
    "# verify GPU\n",
    "with tf.device('/gpu:0'):\n",
    "    a = tf.constant([1.0, 2.0, 3.0, 4.0, 5.0, 6.0], shape=[2, 3], name='a')\n",
    "    b = tf.constant([1.0, 2.0, 3.0, 4.0, 5.0, 6.0], shape=[3, 2], name='b')\n",
    "    c = tf.matmul(a, b)\n",
    "\n",
    "with tf.Session() as sess:\n",
    "    print (sess.run(c))"
   ]
  },
  {
   "cell_type": "code",
   "execution_count": 2,
   "metadata": {},
   "outputs": [],
   "source": [
    "def read_image(fn,dims=None):\n",
    "#  read image into data matrix    \n",
    "    gdal.AllRegister()\n",
    "    inDataset = gdal.Open(fn,GA_ReadOnly)\n",
    "    cols = inDataset.RasterXSize\n",
    "    rows = inDataset.RasterYSize    \n",
    "    bands = inDataset.RasterCount\n",
    "    if dims:\n",
    "        x0,y0,cols,rows = tuple(dims)\n",
    "    else:\n",
    "        x0 = 0\n",
    "        y0 = 0\n",
    "    G = np.zeros((rows*cols,bands))\n",
    "    for b in range(bands):\n",
    "        band = inDataset.GetRasterBand(b+1)\n",
    "        G[:,b] = band.ReadAsArray(x0,y0,cols,rows).astype(np.float32).ravel()\n",
    "    return G\n",
    "\n",
    "def tf_cov(x,ws):\n",
    "#  weighted covariance matrix and weighted means of uncentered data tensor x  \n",
    "    x = tf.transpose(x) # transposed data matrix\n",
    "    S = tf.shape(x)\n",
    "    N = S[0]\n",
    "    sumw = tf.reduce_sum(ws)\n",
    "    ws = tf.reshape( tf.tile(ws,[N]), S ) \n",
    "    xw = tf.multiply(x,ws)\n",
    "    mx = tf.divide( tf.reduce_sum(xw, axis=1, keepdims=True), sumw )\n",
    "    mx1 = tf.matmul(mx,tf.transpose(mx))\n",
    "    xw = tf.multiply(x,tf.sqrt(ws))\n",
    "    vx = tf.matmul(xw, tf.transpose(xw))/sumw\n",
    "    return vx-mx1, mx\n",
    "\n",
    "def geneiv(A,B):\n",
    "    '''solves A*x = lambda*B*x for tensors A, B \n",
    "       returns eigenvectors in columns'''\n",
    "    Li = tf.linalg.inv(tf.cholesky(B))\n",
    "    C = tf.matmul(tf.matmul(Li,A),Li,transpose_b=True)\n",
    "    lambdas,V = tf.linalg.eigh(C)\n",
    "    return lambdas, tf.matmul(tf.transpose(Li),V)\n",
    "\n",
    "def mad(x1,x2,pvs):  \n",
    "    m = tf.shape(x1)[0]\n",
    "    N = tf.shape(x1)[1]\n",
    "    x = tf.concat([x1,x2],axis=1)\n",
    "    itr = 0\n",
    "    while itr<50:\n",
    "        itr += 1\n",
    "    #  weighted covariance and means    \n",
    "        cov,ms = tf_cov(x,pvs)\n",
    "        ms1 = tf.transpose(ms[:N]) #row vectors\n",
    "        ms2 = tf.transpose(ms[N:])\n",
    "        s11 = cov[:N,:N]\n",
    "        s12 = cov[:N,N:]\n",
    "        s21 = cov[N:,:N]\n",
    "        s22 = cov[N:,N:]\n",
    "        c1 = tf.matmul(tf.matmul(s12,tf.linalg.inv(s22)),s21)\n",
    "        b1 = s11\n",
    "        c2 = tf.matmul(tf.matmul(s21,tf.linalg.inv(s11)),s12)\n",
    "        b2 = s22\n",
    "        rho2,A = geneiv(c1,b1)\n",
    "        _   ,B = geneiv(c2,b2)\n",
    "        rho = tf.sqrt(rho2[::-1])\n",
    "        A = A[:,::-1]  \n",
    "        B = B[:,::-1]\n",
    "    #  ensure positive correlation between each pair of canonical variates        \n",
    "        cov = tf.diag_part(tf.matmul(tf.matmul(tf.transpose(A),s12),B))\n",
    "        cov = tf.diag(tf.divide(cov,tf.abs(cov)))\n",
    "        B = tf.matmul(B,cov)  \n",
    "    #  chisqr\n",
    "        sig2s = 2*(1-rho)\n",
    "        sig2s = tf.reshape( tf.tile(sig2s,[m]), (m,N) )\n",
    "        ms1 = tf.reshape( tf.tile(ms1[0],[m]), (m,N) )\n",
    "        ms2 = tf.reshape( tf.tile(ms2[0],[m]), (m,N) )\n",
    "\n",
    "        CV1 = tf.matmul( x1-ms1, A )\n",
    "        CV2 = tf.matmul( x2-ms2, B )\n",
    "        MADs = CV1 - CV2\n",
    "        chisqr = tf.reduce_sum(tf.square(MADs)/sig2s, axis=1) \n",
    "\n",
    "        N1 = tf.cast(N,dtype=tf.float64)\n",
    "        one = tf.constant(1.0,dtype=tf.float64)\n",
    "\n",
    "        pvs = tf.subtract(one,tfd.Chi2(N1).cdf(chisqr))\n",
    "\n",
    "    return (MADs, chisqr, rho)\n",
    "    \n",
    "\n",
    "x1 = tf.placeholder(tf.float64)\n",
    "x2 = tf.placeholder(tf.float64)\n",
    "ws = tf.placeholder(tf.float64)\n",
    " \n",
    "mad_op = mad(x1,x2,ws)    "
   ]
  },
  {
   "cell_type": "code",
   "execution_count": 3,
   "metadata": {},
   "outputs": [
    {
     "name": "stdout",
     "output_type": "stream",
     "text": [
      "[0.9846993  0.85795521 0.8438159  0.75635176 0.50051521 0.42624577]\n",
      "CPU times: user 19.8 s, sys: 3.2 s, total: 23 s\n",
      "Wall time: 8.83 s\n"
     ]
    }
   ],
   "source": [
    "%%time\n",
    "img1 = read_image('myimagery/LT5_19980329_sub.tif',dims=[0,0,600,600])\n",
    "img2 = read_image('myimagery/LT5_19980516_sub.tif',dims=[0,0,600,600])\n",
    "m,N = img1.shape\n",
    "pvs = np.ones(m)\n",
    "with tf.Session() as sess:    \n",
    "    MADs,chisqr,rho = sess.run(mad_op,feed_dict = {x1:img1,x2:img2,ws:pvs})\n",
    "    print rho\n"
   ]
  },
  {
   "cell_type": "code",
   "execution_count": null,
   "metadata": {},
   "outputs": [],
   "source": []
  }
 ],
 "metadata": {
  "kernelspec": {
   "display_name": "Python 2",
   "language": "python",
   "name": "python2"
  },
  "language_info": {
   "codemirror_mode": {
    "name": "ipython",
    "version": 2
   },
   "file_extension": ".py",
   "mimetype": "text/x-python",
   "name": "python",
   "nbconvert_exporter": "python",
   "pygments_lexer": "ipython2",
   "version": "2.7.12"
  }
 },
 "nbformat": 4,
 "nbformat_minor": 2
}
