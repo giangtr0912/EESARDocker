{
 "cells": [
  {
   "cell_type": "markdown",
   "metadata": {},
   "source": [
    "# Solutions Scripts"
   ]
  },
  {
   "cell_type": "code",
   "execution_count": null,
   "metadata": {},
   "outputs": [],
   "source": [
    "%matplotlib inline"
   ]
  },
  {
   "cell_type": "markdown",
   "metadata": {},
   "source": [
    "### Exercise 10(c)"
   ]
  },
  {
   "cell_type": "code",
   "execution_count": null,
   "metadata": {},
   "outputs": [],
   "source": [
    "import numpy as np\n",
    "from osgeo import gdal\n",
    "from osgeo.gdalconst import GDT_Float32\n",
    "\n",
    "m = 5\n",
    "simimage = np.zeros((500**2,9))\n",
    "for i in range(500**2):\n",
    "    if i % 50000 == 0:\n",
    "        print i\n",
    "    X = np.mat(np.random.randn(m,3))\n",
    "    Y = np.mat(np.random.randn(m,3))\n",
    "    Wr = X.T*X + Y.T*Y\n",
    "    Wi = X.T*Y - Y.T*X\n",
    "    W = (Wr - 1j*Wi)/2\n",
    "    simimage[i,0] = np.real(W[0,0])\n",
    "    simimage[i,1] = np.real(W[0,1])\n",
    "    simimage[i,2] = np.imag(W[0,1])\n",
    "    simimage[i,3] = np.real(W[0,2])\n",
    "    simimage[i,4] = np.imag(W[0,2])\n",
    "    simimage[i,5] = np.real(W[1,1])\n",
    "    simimage[i,6] = np.real(W[1,2])\n",
    "    simimage[i,7] = np.imag(W[1,2])\n",
    "    simimage[i,8] = np.real(W[2,2])\n",
    "driver = gdal.GetDriverByName('GTiff')    \n",
    "outDataset = driver.Create('myimagery/enlsim.tif',500,500,9,GDT_Float32) \n",
    "for i in range(9):\n",
    "    outBand = outDataset.GetRasterBand(i+1)\n",
    "    outBand.WriteArray(np.reshape(simimage[:,i],(500,500)),0,0) \n",
    "    outBand.FlushCache()  \n",
    "outDataset = None    \n",
    "print 'Done'      "
   ]
  },
  {
   "cell_type": "code",
   "execution_count": null,
   "metadata": {},
   "outputs": [],
   "source": [
    "run scripts/enlml myimagery/enlsim.tif"
   ]
  },
  {
   "cell_type": "code",
   "execution_count": null,
   "metadata": {},
   "outputs": [],
   "source": [
    "run scripts/dispms -f myimagery/enlsim_enl.tif -e 2"
   ]
  },
  {
   "cell_type": "code",
   "execution_count": null,
   "metadata": {},
   "outputs": [],
   "source": []
  }
 ],
 "metadata": {
  "kernelspec": {
   "display_name": "Python 2",
   "language": "python",
   "name": "python2"
  },
  "language_info": {
   "codemirror_mode": {
    "name": "ipython",
    "version": 2
   },
   "file_extension": ".py",
   "mimetype": "text/x-python",
   "name": "python",
   "nbconvert_exporter": "python",
   "pygments_lexer": "ipython2",
   "version": "2.7.15"
  }
 },
 "nbformat": 4,
 "nbformat_minor": 2
}
