{
 "cells": [
  {
   "cell_type": "markdown",
   "metadata": {},
   "source": [
    "# Notebook examples for Chapter 4"
   ]
  },
  {
   "cell_type": "code",
   "execution_count": null,
   "metadata": {},
   "outputs": [],
   "source": [
    "import warnings\n",
    "# these are innocuous but irritating\n",
    "warnings.filterwarnings(\"ignore\", message=\"numpy.dtype size changed\")\n",
    "warnings.filterwarnings(\"ignore\", message=\"numpy.ufunc size changed\")\n",
    "%matplotlib inline"
   ]
  },
  {
   "cell_type": "markdown",
   "metadata": {},
   "source": [
    "### The Convolution Theorem"
   ]
  },
  {
   "cell_type": "code",
   "execution_count": null,
   "metadata": {},
   "outputs": [],
   "source": [
    "%matplotlib inline\n",
    "import numpy as np\n",
    "from numpy import fft\n",
    "from osgeo import gdal\n",
    "from osgeo.gdalconst import GA_ReadOnly\n",
    "import matplotlib.pyplot as plt\n",
    "\n",
    "# get an image band\n",
    "gdal.AllRegister()\n",
    "infile = 'imagery/AST_20070501'                 \n",
    "inDataset = gdal.Open(infile,GA_ReadOnly)     \n",
    "cols = inDataset.RasterXSize\n",
    "rows = inDataset.RasterYSize    \n",
    "\n",
    "# pick out the middle row of pixels\n",
    "band = inDataset.GetRasterBand(3)  \n",
    "G = band.ReadAsArray(0,rows/2,cols,1).flatten()\n",
    "\n",
    "# define a FIR kernel of length m = 5\n",
    "h = np.array([1 ,2 ,3 ,2 ,1])\n",
    "\n",
    "# convolve in the spatial domain\n",
    "Gs = np.convolve(h,G)\n",
    "\n",
    "# pad the arrays to c + m - 1\n",
    "G = np.concatenate((G,[0,0,0,0]))\n",
    "hp = G*0\n",
    "hp[0:5] = h\n",
    "\n",
    "# convolve in the frequency domain\n",
    "Gf = fft.ifft ( fft.fft ( G )* fft.fft ( hp ) ) - 500\n",
    "\n",
    "x = np.array(range(1004))\n",
    "plt.plot(x,Gs,x,Gf)\n",
    "\n",
    " #plt.savefig('/home/mort/LaTeX/new projects/CRC4/Chapter4/fig4_1.eps')"
   ]
  },
  {
   "cell_type": "markdown",
   "metadata": {},
   "source": [
    "### Radar ranging"
   ]
  },
  {
   "cell_type": "code",
   "execution_count": null,
   "metadata": {},
   "outputs": [],
   "source": [
    "def chirp(t,t0):\n",
    "    result = 0.0*t\n",
    "    idx = np.array(range(2000))+t0 \n",
    "    tt = t[idx] - t0\n",
    "    result[idx] = np.sin(2*np.pi*2e-3*(tt+1e-3*tt**2))\n",
    "    return result\n",
    " \n",
    "t = np.array(range(5000))\n",
    "plt.plot(t,chirp(t,400)+9)\n",
    "plt.plot(t,chirp(t,800)+6)\n",
    "plt.plot(t,chirp(t,1400)+3)\n",
    "signal = chirp(t,400)+chirp(t,800)+chirp(t,1400)\n",
    "kernel = chirp(t,0)[:2000]\n",
    "kernel = kernel[::-1]\n",
    "plt.plot(t,signal)\n",
    "plt.plot(0.003*np.convolve(signal,kernel,\\\n",
    "                                 mode='same')-5)\n",
    "plt.xlabel('Time')\n",
    "plt.ylim((-8,12))\n",
    "\n",
    "#plt.savefig('/home/mort/LaTeX/new projects/CRC4/Chapter4/fig4_2.eps')"
   ]
  },
  {
   "cell_type": "markdown",
   "metadata": {
    "collapsed": true
   },
   "source": [
    "### Linear filters"
   ]
  },
  {
   "cell_type": "code",
   "execution_count": null,
   "metadata": {},
   "outputs": [],
   "source": [
    "from mpl_toolkits.mplot3d import Axes3D\n",
    "from matplotlib import cm\n",
    "import auxil.auxil1 as auxil\n",
    "\n",
    "# load the 4th band from LANDSAT 7 ETM+ image\n",
    "infile = 'imagery/LE7_20010626'\n",
    "inDataset = gdal.Open(infile,GA_ReadOnly)     \n",
    "cols = inDataset.RasterXSize\n",
    "rows = inDataset.RasterYSize \n",
    "band = inDataset.GetRasterBand(4)\n",
    "G = band.ReadAsArray(0,0,cols,rows)\n",
    "\n",
    "# Fourier transform\n",
    "Gf = fft.fft2(G)\n",
    "      \n",
    "# create a Gaussian filter in frequency space\n",
    "sigma = 50\n",
    "Hf = auxil.gaussfilter(sigma,1000,1000)\n",
    "\n",
    "# low- and high-pass filtering in frequency domain\n",
    "Gl = np.real(fft.ifft2(Gf*Hf))\n",
    "Gh = np.real(fft.ifft2(Gf*(1.-Hf)))\n",
    "\n",
    "# plot the filter\n",
    "fig = plt.figure()\n",
    "ax = fig.gca(projection='3d') \n",
    "x, y = np.meshgrid(range(rows),range(cols))\n",
    "ax.plot_surface(x, y, np.roll(Hf,(rows/2,cols/2),(0,1)),\n",
    "                             cmap=cm.coolwarm)\n",
    "\n",
    "#plt.savefig('/home/mort/LaTeX/new projects/CRC4/Chapter4/fig4_3.eps',bbox_inches='tight')"
   ]
  },
  {
   "cell_type": "code",
   "execution_count": null,
   "metadata": {},
   "outputs": [],
   "source": [
    "# save and plot the filtered bands\n",
    "import gdal\n",
    "from osgeo.gdalconst import GDT_Float32\n",
    "driver = gdal.GetDriverByName('Gtiff')   \n",
    "outDataset = driver.Create('imagery/Gh.tif',\n",
    "                cols,rows,2,GDT_Float32)        \n",
    "outBand = outDataset.GetRasterBand(1)\n",
    "outBand.WriteArray(Gl,0,0)\n",
    "outBand = outDataset.GetRasterBand(2)\n",
    "outBand.WriteArray(Gh,0,0)\n",
    "outBand.FlushCache() \n",
    "outDataset = None    "
   ]
  },
  {
   "cell_type": "code",
   "execution_count": null,
   "metadata": {},
   "outputs": [],
   "source": [
    "run scripts/dispms -f 'imagery/Gh.tif' -p [1,1,1] -e 3 \\\n",
    "#-s '/home/mort/LaTeX/new projects/CRC4/Chapter4/fig4_4.eps'"
   ]
  },
  {
   "cell_type": "code",
   "execution_count": null,
   "metadata": {},
   "outputs": [],
   "source": [
    "run scripts/dispms -f 'imagery/Gh.tif' -p [2,2,2] -e 3 \\\n",
    "#-s '/home/mort/LaTeX/new projects/CRC4/Chapter4/fig4_5.eps'"
   ]
  },
  {
   "cell_type": "markdown",
   "metadata": {},
   "source": [
    "### Wavelets and filter banks"
   ]
  },
  {
   "cell_type": "code",
   "execution_count": null,
   "metadata": {},
   "outputs": [],
   "source": [
    "from auxil.auxil1 import DWTArray\n",
    "\n",
    "# instantiate a DWTArray object\n",
    "dwtarr = DWTArray(G,1000,1000)\n",
    "data0 = np.copy(dwtarr.data)\n",
    "\n",
    "# filter once\n",
    "dwtarr.filter()\n",
    "data1 = np.copy(dwtarr.data)\n",
    "quad1 = np.abs(dwtarr.get_quadrant(1))\n",
    "\n",
    "# filter again\n",
    "dwtarr.filter()\n",
    "data2 = dwtarr.data\n",
    "\n",
    "# plot\n",
    "f, ax = plt.subplots(2,2,figsize=(8,8))\n",
    "ax[0,0].imshow(data0,cmap=cm.gray) \n",
    "ax[0,0].set_title('(a)')\n",
    "ax[0,1].imshow(data1,cmap=cm.gray) \n",
    "ax[0,1].set_title('(b)')\n",
    "ax[1,0].imshow(data2,cmap=cm.gray)  \n",
    "ax[1,0].set_title('(c)')\n",
    "ax[1,1].imshow(np.log(quad1-np.min(quad1)+1e-6),\n",
    "                     cmap=cm.gray)\n",
    "ax[1,1].set_title('(d)')\n",
    "\n",
    "#plt.savefig('/home/mort/LaTeX/new projects/CRC4/Chapter4/fig4_11.eps',bbox_inches='tight')"
   ]
  },
  {
   "cell_type": "markdown",
   "metadata": {},
   "source": [
    "### Kernel PCA"
   ]
  },
  {
   "cell_type": "code",
   "execution_count": null,
   "metadata": {},
   "outputs": [],
   "source": [
    "run scripts/kpca -h"
   ]
  },
  {
   "cell_type": "code",
   "execution_count": null,
   "metadata": {},
   "outputs": [],
   "source": [
    "run scripts/kpca -s 0 imagery/LE7_20010626"
   ]
  },
  {
   "cell_type": "code",
   "execution_count": null,
   "metadata": {},
   "outputs": [],
   "source": [
    "run scripts/dispms -f imagery/LE7_20010626_kpca -p [1,2,3] -e 3 \\\n",
    "#-s '/home/mort/LaTeX/new projects/CRC4/Chapter4/fig4_13.eps'"
   ]
  },
  {
   "cell_type": "code",
   "execution_count": null,
   "metadata": {},
   "outputs": [],
   "source": []
  }
 ],
 "metadata": {
  "anaconda-cloud": {},
  "kernelspec": {
   "display_name": "Python 2",
   "language": "python",
   "name": "python2"
  },
  "language_info": {
   "codemirror_mode": {
    "name": "ipython",
    "version": 2
   },
   "file_extension": ".py",
   "mimetype": "text/x-python",
   "name": "python",
   "nbconvert_exporter": "python",
   "pygments_lexer": "ipython2",
   "version": "2.7.15rc1"
  }
 },
 "nbformat": 4,
 "nbformat_minor": 1
}
