{
 "cells": [
  {
   "cell_type": "markdown",
   "metadata": {},
   "source": [
    "# Examples for Chapter 8"
   ]
  },
  {
   "cell_type": "code",
   "execution_count": null,
   "metadata": {},
   "outputs": [],
   "source": [
    "import warnings\n",
    "# these are innocuous but irritating\n",
    "warnings.filterwarnings(\"ignore\", message=\"numpy.dtype size changed\")\n",
    "warnings.filterwarnings(\"ignore\", message=\"numpy.ufunc size changed\")\n",
    "%matplotlib inline"
   ]
  },
  {
   "cell_type": "markdown",
   "metadata": {},
   "source": [
    "## Algorithms for simple cost functions"
   ]
  },
  {
   "cell_type": "markdown",
   "metadata": {},
   "source": [
    "### K-means clustering"
   ]
  },
  {
   "cell_type": "code",
   "execution_count": null,
   "metadata": {},
   "outputs": [],
   "source": [
    "run scripts/kmeans -p [1,2,3,4] -k 8 imagery/AST_20070501_pca.tif"
   ]
  },
  {
   "cell_type": "code",
   "execution_count": null,
   "metadata": {},
   "outputs": [],
   "source": [
    "run scripts/dispms -f imagery/AST_20070501_pca_kmeans.tif -c \\\n",
    "#-s '/home/mort/LaTeX/new projects/CRC4/Chapter8/fig8_1.eps'"
   ]
  },
  {
   "cell_type": "markdown",
   "metadata": {},
   "source": [
    "#### K-means on GEE"
   ]
  },
  {
   "cell_type": "code",
   "execution_count": null,
   "metadata": {},
   "outputs": [],
   "source": [
    "import ee\n",
    "from ipyleaflet import (Map,DrawControl,TileLayer)\n",
    "ee.Initialize()\n",
    "\n",
    "image = ee.Image('users/mortcanty/supervisedclassification/AST_20070501_pca').select(0,1,2,3)\n",
    "region = image.geometry()\n",
    "\n",
    "training = image.sample(region=region,scale=15,numPixels=100000)\n",
    "clusterer = ee.Clusterer.wekaKMeans(8)\n",
    "trained = clusterer.train(training)\n",
    "  \n",
    "clustered = image.cluster(trained)"
   ]
  },
  {
   "cell_type": "code",
   "execution_count": null,
   "metadata": {},
   "outputs": [],
   "source": [
    "# function for overlaying tiles onto a map\n",
    "def GetTileLayerUrl(ee_image_object):\n",
    "  map_id = ee.Image(ee_image_object).getMapId()\n",
    "  tile_url_template =  \"https://earthengine.googleapis.com/map/{mapid}/{{z}}/{{x}}/{{y}}?token={token}\"\n",
    "  return tile_url_template.format(**map_id)\n",
    "\n",
    "# display the default base map and overlay the clustered image\n",
    "center = list(reversed(region.centroid().getInfo()['coordinates']))\n",
    "m = Map(center=center, zoom=11)\n",
    "\n",
    "jet = 'black,blue,cyan,yellow,red'\n",
    "m.add_layer(TileLayer(url=GetTileLayerUrl(\n",
    "        clustered.select('cluster').visualize(min=0, max=6, palette= jet, opacity = 1.0)\n",
    "    )\n",
    "))\n",
    "\n",
    "m"
   ]
  },
  {
   "cell_type": "markdown",
   "metadata": {},
   "source": [
    "#### K-means with Tensorflow"
   ]
  },
  {
   "cell_type": "code",
   "execution_count": null,
   "metadata": {},
   "outputs": [],
   "source": [
    "import os\n",
    "import numpy as np\n",
    "import tensorflow as tf\n",
    "from osgeo import gdal\n",
    "from osgeo.gdalconst import GA_ReadOnly,GDT_Byte\n",
    "\n",
    "tf.logging.set_verbosity('ERROR')\n",
    "\n",
    "# read image data\n",
    "infile = 'imagery/AST_20070501_pca.tif'\n",
    "pos = [1,2,3,4]\n",
    "gdal.AllRegister()\n",
    "inDataset = gdal.Open(infile,GA_ReadOnly)     \n",
    "cols = inDataset.RasterXSize\n",
    "rows = inDataset.RasterYSize    \n",
    "bands = inDataset.RasterCount    \n",
    "if pos is not None:\n",
    "    bands = len(pos)\n",
    "else:\n",
    "    pos = range(1,bands+1)\n",
    "G = np.zeros((cols*rows,bands))      \n",
    "k = 0\n",
    "for b in pos:\n",
    "    band = inDataset.GetRasterBand(b)\n",
    "    band = band.ReadAsArray(0,0,cols,rows)\n",
    "    G[:,k] = np.ravel(band)\n",
    "    k += 1 \n",
    "inDataset = None    \n",
    "# define an input function\n",
    "def input_fn():          \n",
    "    return tf.train.limit_epochs(\n",
    "        tf.convert_to_tensor(G, dtype=tf.float32), \n",
    "        num_epochs=1)"
   ]
  },
  {
   "cell_type": "code",
   "execution_count": null,
   "metadata": {},
   "outputs": [],
   "source": [
    "num_iterations = 10\n",
    "num_clusters = 8\n",
    "# create K-means clusterer\n",
    "kmeans = tf.contrib.factorization.KMeansClustering(\n",
    "    num_clusters=num_clusters, use_mini_batch=False)\n",
    "# train it\n",
    "for _ in xrange(num_iterations):\n",
    "    kmeans.train(input_fn)\n",
    "    print 'score: %f'%kmeans.score(input_fn)\n",
    "# map the input points to their clusters\n",
    "labels = np.array(\n",
    "    list(kmeans.predict_cluster_index(input_fn)))\n",
    "# write to disk\n",
    "path = os.path.dirname(infile)\n",
    "basename = os.path.basename(infile)\n",
    "root, ext = os.path.splitext(basename)\n",
    "outfile = path+'/'+root+'_kmeans'+ext \n",
    "driver = gdal.GetDriverByName('GTiff')    \n",
    "outDataset = driver.Create(outfile,cols,rows,1,GDT_Byte)\n",
    "outBand = outDataset.GetRasterBand(1)\n",
    "outBand.WriteArray(np.reshape(labels,(rows,cols)),0,0) \n",
    "outBand.FlushCache() \n",
    "outDataset = None\n",
    "print 'result written to: '+outfile "
   ]
  },
  {
   "cell_type": "code",
   "execution_count": null,
   "metadata": {},
   "outputs": [],
   "source": [
    "run scripts/dispms -f imagery/AST_20070501_pca_kmeans.tif -c"
   ]
  },
  {
   "cell_type": "markdown",
   "metadata": {},
   "source": [
    "### Kernel K-means clustering"
   ]
  },
  {
   "cell_type": "code",
   "execution_count": null,
   "metadata": {},
   "outputs": [],
   "source": [
    "run scripts/kkmeans -p [1,2,3,4] -n 1 -k 8 imagery/AST_20070501_pca.tif "
   ]
  },
  {
   "cell_type": "code",
   "execution_count": null,
   "metadata": {},
   "outputs": [],
   "source": [
    "%run scripts/dispms -f imagery/AST_20070501_pca_kkmeans.tif -c \\\n",
    "#-s '/home/mort/LaTeX/new projects/CRC4/Chapter8/fig8_2.eps'"
   ]
  },
  {
   "cell_type": "markdown",
   "metadata": {},
   "source": [
    "### Extended K-mean clustering"
   ]
  },
  {
   "cell_type": "code",
   "execution_count": null,
   "metadata": {},
   "outputs": [],
   "source": [
    "run scripts/ekmeans -b 1 imagery/AST_20070501_pca.tif"
   ]
  },
  {
   "cell_type": "code",
   "execution_count": null,
   "metadata": {},
   "outputs": [],
   "source": [
    "run scripts/dispms -f imagery/AST_20070501_pca_ekmeans.tif -c \\\n",
    "#-s '/home/mort/LaTeX/new projects/CRC4/Chapter8/fig8_3.eps'"
   ]
  },
  {
   "cell_type": "markdown",
   "metadata": {},
   "source": [
    "### Agglomerative hierarchical clustering"
   ]
  },
  {
   "cell_type": "code",
   "execution_count": null,
   "metadata": {},
   "outputs": [],
   "source": [
    "run scripts/hcl -h"
   ]
  },
  {
   "cell_type": "code",
   "execution_count": null,
   "metadata": {},
   "outputs": [],
   "source": [
    "run scripts/hcl -p [1,2,3,4] -k 8 -s 2000 imagery/AST_20070501_pca.tif"
   ]
  },
  {
   "cell_type": "code",
   "execution_count": null,
   "metadata": {},
   "outputs": [],
   "source": [
    "run scripts/dispms -f imagery/may0107pca_hcl.tif -c"
   ]
  },
  {
   "cell_type": "markdown",
   "metadata": {},
   "source": [
    "### Gaussian mixture clustering"
   ]
  },
  {
   "cell_type": "code",
   "execution_count": null,
   "metadata": {},
   "outputs": [],
   "source": [
    "run scripts/em -h"
   ]
  },
  {
   "cell_type": "code",
   "execution_count": null,
   "metadata": {},
   "outputs": [],
   "source": [
    "run scripts/em -p [1,2,3,4] -K 8 imagery/AST_20070501_pca.tif"
   ]
  },
  {
   "cell_type": "code",
   "execution_count": null,
   "metadata": {},
   "outputs": [],
   "source": [
    "run scripts/dispms -f imagery/AST_20070501_pca_em.tif -c -d [0,0,400,400] \\\n",
    "#-s '/home/mort/LaTeX/new projects/CRC4/Chapter8/fig8_5.eps'"
   ]
  },
  {
   "cell_type": "markdown",
   "metadata": {},
   "source": [
    "### Benchmark"
   ]
  },
  {
   "cell_type": "code",
   "execution_count": null,
   "metadata": {},
   "outputs": [],
   "source": [
    "from osgeo.gdalconst import GDT_Float32\n",
    "\n",
    "image = np.zeros((800,800,3))\n",
    "b = 2.0\n",
    "image[99:699 ,299:499 ,:] = b\n",
    "image[299:499 ,99:699 ,:] = b\n",
    "image[299:499 ,299:499 ,:] = 2*b\n",
    "n1 = np.random.randn(800,800)\n",
    "n2 = np.random.randn(800,800)\n",
    "n3 = np.random.randn(800,800)\n",
    "image[:,:,0] += n1\n",
    "image[:,:,1] += n2+n1\n",
    "image[:,:,2] += n3+n1/2+n2/2\n",
    "driver = gdal.GetDriverByName('GTiff')    \n",
    "outDataset = driver.Create('imagery/toy.tif',\n",
    "                           800,800,3,GDT_Float32)  \n",
    "for k in range(3):        \n",
    "    outBand = outDataset.GetRasterBand(k+1)\n",
    "    outBand.WriteArray(image[:,:,k],0,0) \n",
    "    outBand.FlushCache() \n",
    "outDataset = None                     "
   ]
  },
  {
   "cell_type": "code",
   "execution_count": null,
   "metadata": {},
   "outputs": [],
   "source": [
    "run scripts/dispms -f 'imagery/toy.tif' -e 3 -p [1,2,3]"
   ]
  },
  {
   "cell_type": "code",
   "execution_count": null,
   "metadata": {},
   "outputs": [],
   "source": [
    "run scripts/ex3_2 imagery/toy.tif"
   ]
  },
  {
   "cell_type": "code",
   "execution_count": null,
   "metadata": {},
   "outputs": [],
   "source": [
    "run scripts/hcl -k 3 -s 2000 imagery/toy.tif"
   ]
  },
  {
   "cell_type": "code",
   "execution_count": null,
   "metadata": {},
   "outputs": [],
   "source": [
    "run scripts/em -K 3 -s 1.0 imagery/toy.tif"
   ]
  },
  {
   "cell_type": "code",
   "execution_count": null,
   "metadata": {},
   "outputs": [],
   "source": [
    "run scripts/dispms -f imagery/toy_em.tif -c -F imagery/toy_hcl.tif -C"
   ]
  },
  {
   "cell_type": "markdown",
   "metadata": {},
   "source": [
    "### Kohonen SOM"
   ]
  },
  {
   "cell_type": "code",
   "execution_count": null,
   "metadata": {},
   "outputs": [],
   "source": [
    "run scripts/som -c 6  imagery/AST_20070501"
   ]
  },
  {
   "cell_type": "code",
   "execution_count": null,
   "metadata": {},
   "outputs": [],
   "source": [
    "run scripts/dispms -f imagery/AST_20070501_som -e 4 -p [1,2,3] -d [0,0,400,400] \\\n",
    "#-s '/home/mort/LaTeX/new projects/CRC4/Chapter8/fig8_9.eps'"
   ]
  },
  {
   "cell_type": "markdown",
   "metadata": {},
   "source": [
    "### Mean shift segmentation"
   ]
  },
  {
   "cell_type": "code",
   "execution_count": null,
   "metadata": {},
   "outputs": [],
   "source": [
    "run scripts/dispms -f imagery/AST_20070501_pca.tif -p [1,2,3] -e 4 -d [300,450,400,400]"
   ]
  },
  {
   "cell_type": "code",
   "execution_count": null,
   "metadata": {
    "scrolled": true
   },
   "outputs": [],
   "source": [
    "run scripts/meanshift -p [1,2,3,4] -d [500,450,200,200] -s 15 -r 30 -m 10 imagery/AST_20070501_pca.tif"
   ]
  },
  {
   "cell_type": "code",
   "execution_count": null,
   "metadata": {},
   "outputs": [],
   "source": [
    "run scripts/dispms -f imagery/AST_20070501_pca_meanshift.tif -p [1,2,3] -e 4  \\\n",
    "-F imagery/AST_20070501_pca.tif -P [1,2,3] -E 4 -D [500,450,200,200] \\\n",
    "%-s  '/home/mort/LaTeX/new projects/CRC4/Chapter8/fig8_10.eps'"
   ]
  },
  {
   "cell_type": "code",
   "execution_count": null,
   "metadata": {},
   "outputs": [],
   "source": [
    "run scripts/dispms -f imagery/AST_20070501_pca_meanshift.tif -p [1,2,3] -e 3 \\\n",
    "-F imagery/AST_20070501_pca_meanshift.tif -P [6,6,6] -E 3 -o 0.4"
   ]
  },
  {
   "cell_type": "markdown",
   "metadata": {},
   "source": [
    "### Toy image for Exercise 2"
   ]
  },
  {
   "cell_type": "code",
   "execution_count": null,
   "metadata": {},
   "outputs": [],
   "source": [
    "from osgeo.gdalconst import GDT_Float32\n",
    "import numpy as np\n",
    "import gdal\n",
    "\n",
    "image = np.zeros((400,400,2))\n",
    "n = np.random.randn(400,400)\n",
    "n1 = 8*np.random.rand(400,400)-4\n",
    "image[:,:,0] = n1+8\n",
    "image[:,:,1] = n1**2+0.3*np.random.randn(400,400)+8\n",
    "image[:200,:,0] = np.random.randn(200,400)/2+8\n",
    "image[:200,:,1] = np.random.randn(200,400)+14\n",
    "driver = gdal.GetDriverByName('GTIFF')\n",
    "outDataset = driver.Create('imagery/toy.tif',400,400,3,GDT_Float32)\n",
    "for k in range(2):\n",
    "    outBand= outDataset.GetRasterBand(k+1)\n",
    "    outBand.WriteArray(image[:,:,k],0,0) \n",
    "    outBand.FlushCache() \n",
    "outDataset = None    "
   ]
  },
  {
   "cell_type": "code",
   "execution_count": null,
   "metadata": {},
   "outputs": [],
   "source": [
    "run scripts/scatterplot -s '/home/mort/LaTeX/new projects/CRC4/Chapter8/fig8_11.eps' imagery/toy.tif imagery/toy.tif 1 2"
   ]
  },
  {
   "cell_type": "code",
   "execution_count": null,
   "metadata": {},
   "outputs": [],
   "source": []
  }
 ],
 "metadata": {
  "kernelspec": {
   "display_name": "Python 2",
   "language": "python",
   "name": "python2"
  },
  "language_info": {
   "codemirror_mode": {
    "name": "ipython",
    "version": 2
   },
   "file_extension": ".py",
   "mimetype": "text/x-python",
   "name": "python",
   "nbconvert_exporter": "python",
   "pygments_lexer": "ipython2",
   "version": "2.7.15rc1"
  }
 },
 "nbformat": 4,
 "nbformat_minor": 2
}
