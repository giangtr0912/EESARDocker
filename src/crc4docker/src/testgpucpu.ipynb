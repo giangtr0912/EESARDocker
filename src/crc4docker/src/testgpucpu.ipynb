{
 "cells": [
  {
   "cell_type": "markdown",
   "metadata": {},
   "source": [
    "### Test GPU vs CPU on Tensorflow-gpu/Docker"
   ]
  },
  {
   "cell_type": "code",
   "execution_count": 1,
   "metadata": {},
   "outputs": [],
   "source": [
    "import tensorflow as tf\n",
    "cluster = tf.train.ClusterSpec( {'worker': ['vivo:2222']})"
   ]
  },
  {
   "cell_type": "code",
   "execution_count": 2,
   "metadata": {},
   "outputs": [],
   "source": [
    "server = tf.train.Server(cluster,job_name='worker',task_index=0)"
   ]
  },
  {
   "cell_type": "code",
   "execution_count": 12,
   "metadata": {},
   "outputs": [
    {
     "name": "stdout",
     "output_type": "stream",
     "text": [
      "------------IRMAD (tensorflow) -------------\n",
      "Wed Feb 27 18:58:25 2019\n",
      "first scene:  imagery/LE7_20010525\n",
      "second scene: imagery/LE7_20010626\n",
      "canonical corr: [0.99444511 0.99074227 0.96681513 0.87005442 0.71131883 0.64901159]\n",
      "MAD variates written to: imagery/MAD(LE7_20010525-LE7_20010626).tif\n",
      "elapsed time: 29.6246058941\n"
     ]
    }
   ],
   "source": [
    "run scripts/iMad_tf -i 50 -d [0,0,800,800] -D /task:0/gpu:0 imagery/LE7_20010525  imagery/LE7_20010626"
   ]
  },
  {
   "cell_type": "code",
   "execution_count": null,
   "metadata": {},
   "outputs": [],
   "source": []
  }
 ],
 "metadata": {
  "kernelspec": {
   "display_name": "Python 2",
   "language": "python",
   "name": "python2"
  },
  "language_info": {
   "codemirror_mode": {
    "name": "ipython",
    "version": 2
   },
   "file_extension": ".py",
   "mimetype": "text/x-python",
   "name": "python",
   "nbconvert_exporter": "python",
   "pygments_lexer": "ipython2",
   "version": "2.7.12"
  }
 },
 "nbformat": 4,
 "nbformat_minor": 2
}
