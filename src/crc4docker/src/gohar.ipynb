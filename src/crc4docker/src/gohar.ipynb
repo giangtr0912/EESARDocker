{
 "cells": [
  {
   "cell_type": "code",
   "execution_count": 20,
   "metadata": {},
   "outputs": [
    {
     "name": "stdout",
     "output_type": "stream",
     "text": [
      "****Exporting to Assets, task id: 6LJYPPNGZLFEZBCZWOKYQWJ3\n"
     ]
    }
   ],
   "source": [
    "\n",
    "import ee\n",
    "#import ee.mapclient\n",
    "from auxil.eeMad import imad\n",
    "ee.Initialize()\n",
    "\n",
    "\n",
    "# --------------------------------------------------------------------------------------------------------\n",
    "# ----------------------------------------------Functions for preparing collections-----------------------\n",
    "\n",
    "# Study area in Botswana\n",
    "\n",
    "poly = ee.Geometry.Polygon([23.44,-20.72,26.42,-24.15,29.50,-22.17, 26.10,-18.97,24.91,-18.98, 23.44,-20.72], None, False)\n",
    " \n",
    "   \n",
    "def iMad(cid,poly,sd1,ed1,sd2,ed2,bns,maxitr):\n",
    "    collection = ee.ImageCollection(cid) \\\n",
    "         .filterBounds(poly) \\\n",
    "         .filterDate(ee.Date(sd1), ee.Date(ed1)) \\\n",
    "         .sort('system:time_start',True)\n",
    "    image1 = collection.max().select(bns).clip(poly) \n",
    "      \n",
    "    collection = ee.ImageCollection(cid) \\\n",
    "         .filterBounds(poly) \\\n",
    "         .filterDate(ee.Date(sd2), ee.Date(ed2)) \\\n",
    "         .sort('system:time_start',True)                   \n",
    "    image2 = collection.max().select(bns).clip(poly) \n",
    "    image2 = image2.register(image1,60)\n",
    "    inputlist = ee.List.sequence(1,maxitr)\n",
    "    \n",
    "    first = ee.Dictionary({'done':ee.Number(0),\n",
    "          'image':image1.addBands(image2),\n",
    "          'allrhos': [ee.List.sequence(1,len(bns))],\n",
    "          'chi2':ee.Image.constant(0),\n",
    "          'MAD':ee.Image.constant(0)}) \n",
    "    madnames = ['MAD'+str(i+1) for i in range(len(bns))]\n",
    "#  run the algorithm    \n",
    "    result = ee.Dictionary(inputlist.iterate(imad,first))                \n",
    "    MAD = ee.Image(result.get('MAD')).rename(madnames)\n",
    "    return MAD\n",
    "\n",
    "collectionid = 'LANDSAT/LC08/C01/T1_SR'\n",
    "bandNames = ['B4','B5']\n",
    "startDate1 = '2016-04-15'\n",
    "endDate1 = '2016-09-30'\n",
    "startDate2 = '2018-04-15'\n",
    "endDate2 = '2018-09-15'\n",
    "maxitr = 15\n",
    "MAD = iMad(collectionid,poly,startDate1,\n",
    "           endDate1,startDate2,endDate2,\n",
    "           bandNames,maxitr)\n",
    "\n",
    "# assexportname = 'users/goharghazaryan6/MAD_trails/trail100'\n",
    "assexportname = 'users/mortcanty/imad/gohar3'\n",
    "assexport = ee.batch.Export.image.toAsset(MAD.clip(poly),\n",
    "           description='assetExportTaskMAD', \n",
    "           assetId=assexportname,scale=30,maxPixels=1e9)\n",
    "assexportid = str(assexport.id)\n",
    "print '****Exporting to Assets, task id: %s'%assexportid\n",
    "assexport.start()          \n"
   ]
  },
  {
   "cell_type": "code",
   "execution_count": null,
   "metadata": {},
   "outputs": [],
   "source": []
  }
 ],
 "metadata": {
  "kernelspec": {
   "display_name": "Python 2",
   "language": "python",
   "name": "python2"
  },
  "language_info": {
   "codemirror_mode": {
    "name": "ipython",
    "version": 2
   },
   "file_extension": ".py",
   "mimetype": "text/x-python",
   "name": "python",
   "nbconvert_exporter": "python",
   "pygments_lexer": "ipython2",
   "version": "2.7.15rc1"
  }
 },
 "nbformat": 4,
 "nbformat_minor": 2
}
